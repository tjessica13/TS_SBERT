{
  "nbformat": 4,
  "nbformat_minor": 0,
  "metadata": {
    "colab": {
      "provenance": [],
      "authorship_tag": "ABX9TyNoaKo4gZH9poQzfwek70GC",
      "include_colab_link": true
    },
    "kernelspec": {
      "name": "python3",
      "display_name": "Python 3"
    },
    "language_info": {
      "name": "python"
    },
    "widgets": {
      "application/vnd.jupyter.widget-state+json": {
        "e77fea77bff647cba9b22cd41518b2a5": {
          "model_module": "@jupyter-widgets/controls",
          "model_name": "HBoxModel",
          "model_module_version": "1.5.0",
          "state": {
            "_dom_classes": [],
            "_model_module": "@jupyter-widgets/controls",
            "_model_module_version": "1.5.0",
            "_model_name": "HBoxModel",
            "_view_count": null,
            "_view_module": "@jupyter-widgets/controls",
            "_view_module_version": "1.5.0",
            "_view_name": "HBoxView",
            "box_style": "",
            "children": [
              "IPY_MODEL_00f6f83d8c7c41f782df494723a3a3de",
              "IPY_MODEL_b4587ab68c104631a98f9ab68a183e93",
              "IPY_MODEL_bef9f873dc724ce7ba9a968d9eb32aa7"
            ],
            "layout": "IPY_MODEL_118ed2f6ee8d445799bdcd9524eb40bb"
          }
        },
        "00f6f83d8c7c41f782df494723a3a3de": {
          "model_module": "@jupyter-widgets/controls",
          "model_name": "HTMLModel",
          "model_module_version": "1.5.0",
          "state": {
            "_dom_classes": [],
            "_model_module": "@jupyter-widgets/controls",
            "_model_module_version": "1.5.0",
            "_model_name": "HTMLModel",
            "_view_count": null,
            "_view_module": "@jupyter-widgets/controls",
            "_view_module_version": "1.5.0",
            "_view_name": "HTMLView",
            "description": "",
            "description_tooltip": null,
            "layout": "IPY_MODEL_e51d6dc07aba4d1687e1fefe93499e88",
            "placeholder": "​",
            "style": "IPY_MODEL_f23d77d6878d47a0938a7ffd81705087",
            "value": "Batches: 100%"
          }
        },
        "b4587ab68c104631a98f9ab68a183e93": {
          "model_module": "@jupyter-widgets/controls",
          "model_name": "FloatProgressModel",
          "model_module_version": "1.5.0",
          "state": {
            "_dom_classes": [],
            "_model_module": "@jupyter-widgets/controls",
            "_model_module_version": "1.5.0",
            "_model_name": "FloatProgressModel",
            "_view_count": null,
            "_view_module": "@jupyter-widgets/controls",
            "_view_module_version": "1.5.0",
            "_view_name": "ProgressView",
            "bar_style": "success",
            "description": "",
            "description_tooltip": null,
            "layout": "IPY_MODEL_f5ca14ae6c274a1e840333a054fce98c",
            "max": 8,
            "min": 0,
            "orientation": "horizontal",
            "style": "IPY_MODEL_2ce187f5fbde4b308801d9ff8419e0e8",
            "value": 8
          }
        },
        "bef9f873dc724ce7ba9a968d9eb32aa7": {
          "model_module": "@jupyter-widgets/controls",
          "model_name": "HTMLModel",
          "model_module_version": "1.5.0",
          "state": {
            "_dom_classes": [],
            "_model_module": "@jupyter-widgets/controls",
            "_model_module_version": "1.5.0",
            "_model_name": "HTMLModel",
            "_view_count": null,
            "_view_module": "@jupyter-widgets/controls",
            "_view_module_version": "1.5.0",
            "_view_name": "HTMLView",
            "description": "",
            "description_tooltip": null,
            "layout": "IPY_MODEL_c048b1080ab14024aa23dff06d000ba6",
            "placeholder": "​",
            "style": "IPY_MODEL_6950fdcf52a943e9abfc9ac57b0eb0f5",
            "value": " 8/8 [00:45&lt;00:00,  5.07s/it]"
          }
        },
        "118ed2f6ee8d445799bdcd9524eb40bb": {
          "model_module": "@jupyter-widgets/base",
          "model_name": "LayoutModel",
          "model_module_version": "1.2.0",
          "state": {
            "_model_module": "@jupyter-widgets/base",
            "_model_module_version": "1.2.0",
            "_model_name": "LayoutModel",
            "_view_count": null,
            "_view_module": "@jupyter-widgets/base",
            "_view_module_version": "1.2.0",
            "_view_name": "LayoutView",
            "align_content": null,
            "align_items": null,
            "align_self": null,
            "border": null,
            "bottom": null,
            "display": null,
            "flex": null,
            "flex_flow": null,
            "grid_area": null,
            "grid_auto_columns": null,
            "grid_auto_flow": null,
            "grid_auto_rows": null,
            "grid_column": null,
            "grid_gap": null,
            "grid_row": null,
            "grid_template_areas": null,
            "grid_template_columns": null,
            "grid_template_rows": null,
            "height": null,
            "justify_content": null,
            "justify_items": null,
            "left": null,
            "margin": null,
            "max_height": null,
            "max_width": null,
            "min_height": null,
            "min_width": null,
            "object_fit": null,
            "object_position": null,
            "order": null,
            "overflow": null,
            "overflow_x": null,
            "overflow_y": null,
            "padding": null,
            "right": null,
            "top": null,
            "visibility": null,
            "width": null
          }
        },
        "e51d6dc07aba4d1687e1fefe93499e88": {
          "model_module": "@jupyter-widgets/base",
          "model_name": "LayoutModel",
          "model_module_version": "1.2.0",
          "state": {
            "_model_module": "@jupyter-widgets/base",
            "_model_module_version": "1.2.0",
            "_model_name": "LayoutModel",
            "_view_count": null,
            "_view_module": "@jupyter-widgets/base",
            "_view_module_version": "1.2.0",
            "_view_name": "LayoutView",
            "align_content": null,
            "align_items": null,
            "align_self": null,
            "border": null,
            "bottom": null,
            "display": null,
            "flex": null,
            "flex_flow": null,
            "grid_area": null,
            "grid_auto_columns": null,
            "grid_auto_flow": null,
            "grid_auto_rows": null,
            "grid_column": null,
            "grid_gap": null,
            "grid_row": null,
            "grid_template_areas": null,
            "grid_template_columns": null,
            "grid_template_rows": null,
            "height": null,
            "justify_content": null,
            "justify_items": null,
            "left": null,
            "margin": null,
            "max_height": null,
            "max_width": null,
            "min_height": null,
            "min_width": null,
            "object_fit": null,
            "object_position": null,
            "order": null,
            "overflow": null,
            "overflow_x": null,
            "overflow_y": null,
            "padding": null,
            "right": null,
            "top": null,
            "visibility": null,
            "width": null
          }
        },
        "f23d77d6878d47a0938a7ffd81705087": {
          "model_module": "@jupyter-widgets/controls",
          "model_name": "DescriptionStyleModel",
          "model_module_version": "1.5.0",
          "state": {
            "_model_module": "@jupyter-widgets/controls",
            "_model_module_version": "1.5.0",
            "_model_name": "DescriptionStyleModel",
            "_view_count": null,
            "_view_module": "@jupyter-widgets/base",
            "_view_module_version": "1.2.0",
            "_view_name": "StyleView",
            "description_width": ""
          }
        },
        "f5ca14ae6c274a1e840333a054fce98c": {
          "model_module": "@jupyter-widgets/base",
          "model_name": "LayoutModel",
          "model_module_version": "1.2.0",
          "state": {
            "_model_module": "@jupyter-widgets/base",
            "_model_module_version": "1.2.0",
            "_model_name": "LayoutModel",
            "_view_count": null,
            "_view_module": "@jupyter-widgets/base",
            "_view_module_version": "1.2.0",
            "_view_name": "LayoutView",
            "align_content": null,
            "align_items": null,
            "align_self": null,
            "border": null,
            "bottom": null,
            "display": null,
            "flex": null,
            "flex_flow": null,
            "grid_area": null,
            "grid_auto_columns": null,
            "grid_auto_flow": null,
            "grid_auto_rows": null,
            "grid_column": null,
            "grid_gap": null,
            "grid_row": null,
            "grid_template_areas": null,
            "grid_template_columns": null,
            "grid_template_rows": null,
            "height": null,
            "justify_content": null,
            "justify_items": null,
            "left": null,
            "margin": null,
            "max_height": null,
            "max_width": null,
            "min_height": null,
            "min_width": null,
            "object_fit": null,
            "object_position": null,
            "order": null,
            "overflow": null,
            "overflow_x": null,
            "overflow_y": null,
            "padding": null,
            "right": null,
            "top": null,
            "visibility": null,
            "width": null
          }
        },
        "2ce187f5fbde4b308801d9ff8419e0e8": {
          "model_module": "@jupyter-widgets/controls",
          "model_name": "ProgressStyleModel",
          "model_module_version": "1.5.0",
          "state": {
            "_model_module": "@jupyter-widgets/controls",
            "_model_module_version": "1.5.0",
            "_model_name": "ProgressStyleModel",
            "_view_count": null,
            "_view_module": "@jupyter-widgets/base",
            "_view_module_version": "1.2.0",
            "_view_name": "StyleView",
            "bar_color": null,
            "description_width": ""
          }
        },
        "c048b1080ab14024aa23dff06d000ba6": {
          "model_module": "@jupyter-widgets/base",
          "model_name": "LayoutModel",
          "model_module_version": "1.2.0",
          "state": {
            "_model_module": "@jupyter-widgets/base",
            "_model_module_version": "1.2.0",
            "_model_name": "LayoutModel",
            "_view_count": null,
            "_view_module": "@jupyter-widgets/base",
            "_view_module_version": "1.2.0",
            "_view_name": "LayoutView",
            "align_content": null,
            "align_items": null,
            "align_self": null,
            "border": null,
            "bottom": null,
            "display": null,
            "flex": null,
            "flex_flow": null,
            "grid_area": null,
            "grid_auto_columns": null,
            "grid_auto_flow": null,
            "grid_auto_rows": null,
            "grid_column": null,
            "grid_gap": null,
            "grid_row": null,
            "grid_template_areas": null,
            "grid_template_columns": null,
            "grid_template_rows": null,
            "height": null,
            "justify_content": null,
            "justify_items": null,
            "left": null,
            "margin": null,
            "max_height": null,
            "max_width": null,
            "min_height": null,
            "min_width": null,
            "object_fit": null,
            "object_position": null,
            "order": null,
            "overflow": null,
            "overflow_x": null,
            "overflow_y": null,
            "padding": null,
            "right": null,
            "top": null,
            "visibility": null,
            "width": null
          }
        },
        "6950fdcf52a943e9abfc9ac57b0eb0f5": {
          "model_module": "@jupyter-widgets/controls",
          "model_name": "DescriptionStyleModel",
          "model_module_version": "1.5.0",
          "state": {
            "_model_module": "@jupyter-widgets/controls",
            "_model_module_version": "1.5.0",
            "_model_name": "DescriptionStyleModel",
            "_view_count": null,
            "_view_module": "@jupyter-widgets/base",
            "_view_module_version": "1.2.0",
            "_view_name": "StyleView",
            "description_width": ""
          }
        }
      }
    }
  },
  "cells": [
    {
      "cell_type": "markdown",
      "metadata": {
        "id": "view-in-github",
        "colab_type": "text"
      },
      "source": [
        "<a href=\"https://colab.research.google.com/github/tjessica13/TS_SBERT/blob/main/TaylorSwift_SBERT.ipynb\" target=\"_parent\"><img src=\"https://colab.research.google.com/assets/colab-badge.svg\" alt=\"Open In Colab\"/></a>"
      ]
    },
    {
      "cell_type": "markdown",
      "source": [
        "# Taylor Swift Lyric Retrieval with SBERT\n",
        "This is an experiment with semantic search on Taylor Swift lyrics using the transformer SBERT."
      ],
      "metadata": {
        "id": "G2gY72oyfneO"
      }
    },
    {
      "cell_type": "code",
      "execution_count": 16,
      "metadata": {
        "id": "Zqag5hC_5k6y",
        "colab": {
          "base_uri": "https://localhost:8080/"
        },
        "outputId": "7af475a2-ef45-4d4c-8e1f-f64201004b21"
      },
      "outputs": [
        {
          "output_type": "stream",
          "name": "stdout",
          "text": [
            "fatal: destination path 'TS_SBERT' already exists and is not an empty directory.\n"
          ]
        }
      ],
      "source": [
        "# dataset is from https://www.kaggle.com/datasets/ishikajohari/taylor-swift-all-lyrics-30-albums/data\n",
        "\n",
        "!git clone https://github.com/tjessica13/TS_SBERT"
      ]
    },
    {
      "cell_type": "markdown",
      "source": [
        "# Step 1: Preprocessing"
      ],
      "metadata": {
        "id": "dBjj8gN2JILB"
      }
    },
    {
      "cell_type": "code",
      "source": [
        "songs = []\n",
        "\n",
        "song_titles = []"
      ],
      "metadata": {
        "id": "v496hVS9KBdi"
      },
      "execution_count": 127,
      "outputs": []
    },
    {
      "cell_type": "code",
      "source": [
        "import os\n",
        "import re\n",
        "\n",
        "def preprocess(content):\n",
        "  # remove new lines\n",
        "  lyrics_n = re.sub('\\n', ' ', content)\n",
        "  # remove slashes\n",
        "  lyrics_slash = re.sub('\\'|\\\"', '', lyrics_n)\n",
        "  # remove the song structure parts (ex. [Chorus])\n",
        "  lyrics_embed = re.sub('[0-9]+Embed', '', lyrics_slash)\n",
        "  lyrics = re.sub('\\[(.*?)\\]', '', lyrics_embed)\n",
        "  #print(lyrics)\n",
        "  return lyrics\n"
      ],
      "metadata": {
        "id": "AZggIWG-JXAk"
      },
      "execution_count": 126,
      "outputs": []
    },
    {
      "cell_type": "code",
      "source": [
        "import os\n",
        "# read in the documents for the collection\n",
        "def read_docs(directory, album):\n",
        "  for filename in os.listdir(directory):\n",
        "    filepath = os.path.join(directory, filename)\n",
        "    print(album)\n",
        "    print(filename)\n",
        "    if os.path.isfile(filepath):\n",
        "      with open(filepath, 'r', encoding='utf-8') as file:\n",
        "        next(file) # skip the first line of the file\n",
        "        content = file.read()\n",
        "        print(\"Processing file: \" + filepath)\n",
        "        lyrics = preprocess(content)\n",
        "        song_titles.append(album + \".\" + filename)\n",
        "        songs.append(lyrics)"
      ],
      "metadata": {
        "id": "Dwd9xhESHeLB"
      },
      "execution_count": 128,
      "outputs": []
    },
    {
      "cell_type": "code",
      "source": [
        "albums = {\n",
        "    \"1989_TaylorsVersion_\",\n",
        "    \"Evermore\",\n",
        "    \"Fearless_TaylorsVersion_\",\n",
        "    \"Folklore\",\n",
        "    \"Lover\",\n",
        "    \"Midnights_TheTillDawnEdition_\",\n",
        "    \"Red_TaylorsVersion_\",\n",
        "    \"Reputation\",\n",
        "    \"SpeakNow_TaylorsVersion_\",\n",
        "    \"THETORTUREDPOETSDEPARTMENT_THEANTHOLOGY\",\n",
        "    \"TaylorSwift\"\n",
        "}"
      ],
      "metadata": {
        "id": "Q3m_gJtzIF5w"
      },
      "execution_count": 93,
      "outputs": []
    },
    {
      "cell_type": "code",
      "source": [
        "read_docs(\"/content/TS_SBERT/THETORTUREDPOETSDEPARTMENT_THEANTHOLOGY\", \"TTPD\")"
      ],
      "metadata": {
        "colab": {
          "base_uri": "https://localhost:8080/"
        },
        "id": "KbX5_8FfKc1D",
        "outputId": "82c828b7-5da0-4b9a-e341-afd5cd71a636"
      },
      "execution_count": 129,
      "outputs": [
        {
          "output_type": "stream",
          "name": "stdout",
          "text": [
            "TTPD\n",
            "HowDidItEnd_.txt\n",
            "Processing file: /content/TS_SBERT/THETORTUREDPOETSDEPARTMENT_THEANTHOLOGY/HowDidItEnd_.txt\n",
            "TTPD\n",
            "TheAlchemy.txt\n",
            "Processing file: /content/TS_SBERT/THETORTUREDPOETSDEPARTMENT_THEANTHOLOGY/TheAlchemy.txt\n",
            "TTPD\n",
            "Peter.txt\n",
            "Processing file: /content/TS_SBERT/THETORTUREDPOETSDEPARTMENT_THEANTHOLOGY/Peter.txt\n",
            "TTPD\n",
            "DownBad.txt\n",
            "Processing file: /content/TS_SBERT/THETORTUREDPOETSDEPARTMENT_THEANTHOLOGY/DownBad.txt\n",
            "TTPD\n",
            "ClaraBow.txt\n",
            "Processing file: /content/TS_SBERT/THETORTUREDPOETSDEPARTMENT_THEANTHOLOGY/ClaraBow.txt\n",
            "TTPD\n",
            "imgonnagetyouback.txt\n",
            "Processing file: /content/TS_SBERT/THETORTUREDPOETSDEPARTMENT_THEANTHOLOGY/imgonnagetyouback.txt\n",
            "TTPD\n",
            "TheProphecy.txt\n",
            "Processing file: /content/TS_SBERT/THETORTUREDPOETSDEPARTMENT_THEANTHOLOGY/TheProphecy.txt\n",
            "TTPD\n",
            "Florida___.txt\n",
            "Processing file: /content/TS_SBERT/THETORTUREDPOETSDEPARTMENT_THEANTHOLOGY/Florida___.txt\n",
            "TTPD\n",
            "SoHighSchool.txt\n",
            "Processing file: /content/TS_SBERT/THETORTUREDPOETSDEPARTMENT_THEANTHOLOGY/SoHighSchool.txt\n",
            "TTPD\n",
            "ButDaddyILoveHim.txt\n",
            "Processing file: /content/TS_SBERT/THETORTUREDPOETSDEPARTMENT_THEANTHOLOGY/ButDaddyILoveHim.txt\n",
            "TTPD\n",
            "FreshOutTheSlammer.txt\n",
            "Processing file: /content/TS_SBERT/THETORTUREDPOETSDEPARTMENT_THEANTHOLOGY/FreshOutTheSlammer.txt\n",
            "TTPD\n",
            "loml.txt\n",
            "Processing file: /content/TS_SBERT/THETORTUREDPOETSDEPARTMENT_THEANTHOLOGY/loml.txt\n",
            "TTPD\n",
            "SoLong_London.txt\n",
            "Processing file: /content/TS_SBERT/THETORTUREDPOETSDEPARTMENT_THEANTHOLOGY/SoLong_London.txt\n",
            "TTPD\n",
            "MyBoyOnlyBreaksHisFavoriteToys.txt\n",
            "Processing file: /content/TS_SBERT/THETORTUREDPOETSDEPARTMENT_THEANTHOLOGY/MyBoyOnlyBreaksHisFavoriteToys.txt\n",
            "TTPD\n",
            "TheBolter.txt\n",
            "Processing file: /content/TS_SBERT/THETORTUREDPOETSDEPARTMENT_THEANTHOLOGY/TheBolter.txt\n",
            "TTPD\n",
            "TheAlbatross.txt\n",
            "Processing file: /content/TS_SBERT/THETORTUREDPOETSDEPARTMENT_THEANTHOLOGY/TheAlbatross.txt\n",
            "TTPD\n",
            "ChloeorSamorSophiaorMarcus.txt\n",
            "Processing file: /content/TS_SBERT/THETORTUREDPOETSDEPARTMENT_THEANTHOLOGY/ChloeorSamorSophiaorMarcus.txt\n",
            "TTPD\n",
            "IHateItHere.txt\n",
            "Processing file: /content/TS_SBERT/THETORTUREDPOETSDEPARTMENT_THEANTHOLOGY/IHateItHere.txt\n",
            "TTPD\n",
            "ICanDoItWithABrokenHeart.txt\n",
            "Processing file: /content/TS_SBERT/THETORTUREDPOETSDEPARTMENT_THEANTHOLOGY/ICanDoItWithABrokenHeart.txt\n",
            "TTPD\n",
            "TheTorturedPoetsDepartment.txt\n",
            "Processing file: /content/TS_SBERT/THETORTUREDPOETSDEPARTMENT_THEANTHOLOGY/TheTorturedPoetsDepartment.txt\n",
            "TTPD\n",
            "ICanFixHim_NoReallyICan_.txt\n",
            "Processing file: /content/TS_SBERT/THETORTUREDPOETSDEPARTMENT_THEANTHOLOGY/ICanFixHim_NoReallyICan_.txt\n",
            "TTPD\n",
            "TheBlackDog.txt\n",
            "Processing file: /content/TS_SBERT/THETORTUREDPOETSDEPARTMENT_THEANTHOLOGY/TheBlackDog.txt\n",
            "TTPD\n",
            "Robin.txt\n",
            "Processing file: /content/TS_SBERT/THETORTUREDPOETSDEPARTMENT_THEANTHOLOGY/Robin.txt\n",
            "TTPD\n",
            "TheManuscript.txt\n",
            "Processing file: /content/TS_SBERT/THETORTUREDPOETSDEPARTMENT_THEANTHOLOGY/TheManuscript.txt\n",
            "TTPD\n",
            "Cassandra.txt\n",
            "Processing file: /content/TS_SBERT/THETORTUREDPOETSDEPARTMENT_THEANTHOLOGY/Cassandra.txt\n",
            "TTPD\n",
            "ILookinPeoplesWindows.txt\n",
            "Processing file: /content/TS_SBERT/THETORTUREDPOETSDEPARTMENT_THEANTHOLOGY/ILookinPeoplesWindows.txt\n",
            "TTPD\n",
            "TheSmallestManWhoEverLived.txt\n",
            "Processing file: /content/TS_SBERT/THETORTUREDPOETSDEPARTMENT_THEANTHOLOGY/TheSmallestManWhoEverLived.txt\n",
            "TTPD\n",
            "Fortnight.txt\n",
            "Processing file: /content/TS_SBERT/THETORTUREDPOETSDEPARTMENT_THEANTHOLOGY/Fortnight.txt\n",
            "TTPD\n",
            "thanKyouaIMee.txt\n",
            "Processing file: /content/TS_SBERT/THETORTUREDPOETSDEPARTMENT_THEANTHOLOGY/thanKyouaIMee.txt\n",
            "TTPD\n",
            "WhosAfraidofLittleOldMe_.txt\n",
            "Processing file: /content/TS_SBERT/THETORTUREDPOETSDEPARTMENT_THEANTHOLOGY/WhosAfraidofLittleOldMe_.txt\n",
            "TTPD\n",
            "GuiltyasSin_.txt\n",
            "Processing file: /content/TS_SBERT/THETORTUREDPOETSDEPARTMENT_THEANTHOLOGY/GuiltyasSin_.txt\n"
          ]
        }
      ]
    },
    {
      "cell_type": "code",
      "source": [
        "songs"
      ],
      "metadata": {
        "colab": {
          "base_uri": "https://localhost:8080/"
        },
        "id": "SOBCv3JyoYc7",
        "outputId": "eddd95d4-9873-45f9-ccab-c1c7b32ca5c1"
      },
      "execution_count": 130,
      "outputs": [
        {
          "output_type": "execute_result",
          "data": {
            "text/plain": [
              "['(Uh-oh, uh-oh)   We hereby conduct this post-mortem He was a hot house flower to my outdoorsman Our maladies were such we could not cure them And so a touch that was my birthright became foreign   Come one, come all, its happenin again The empathetic hunger descends Well tell no one except all of our friends We must know How did it end? (Uh-oh, uh-oh)   We were blind to unforeseen circumstances We learned thе right steps to different dancеs And fell victim to interlopers glances Lost the game of chance, what are the chances? Soon, theyll go home to their husbands Smug cause they know they can trust him Then feverishly calling their cousins See Taylor Swift LiveGet tickets as low as $60You might also like Guess who we ran into at the shops? Walking in circles like she was lost Didnt you hear? They called it all off One gasp and then How did it end?   Say it once again with feeling How the death rattle breathing Silenced as the soul was leaving The deflation of our dreaming Leaving me bereft and reeling My beloved ghost and me Sitting in a tree D-Y-I-N-G   Its happenin again How did it end? I cant pretend like I understand How did it end?   Come one, come all, its happenin again The empathetic hunger descends Well tell no one except all of our friends But I still dont know How did it end',\n",
              " 'This happens once every few lifetimes These chemicals hit me like white wine What if I told you Im back? The hospital was a drag Worst sleep that I ever had I circled you on a map I havent come around in so long But Im coming back so strong   So when I touch down Call the amateurs and cut em from the team Ditch the clowns, get the crown Baby, Im the one to beat Cause the sign on your heart Said its still reserved for me Honestly, who are we to fight thе alchemy?   Hey, you, what if I told you werе cool? That childs play back in school Is forgiven under my rule I havent come around in so long But Im making a comeback to where I belong See Taylor Swift LiveGet tickets as low as $60You might also like So when I touch down Call the amateurs and cut em from the team Ditch the clowns, get the crown Baby, Im the one to beat Cause the sign on your heart Said its still reserved for me Honestly, who are we to fight the alchemy? These blokes warm the benches Weve been on a winning streak He jokes that its heroin, but this time with an E Cause the sign on your heart Said its still reserved for me Honestly, who are we to fight the alchemy?   Shirts off and your friends lift you up over their heads Beer stickin to the floor, cheers chanted cause they said There was no chance trying to be the greatest in the league Wheres the trophy? He just comes runnin over to me   Touchdown Call the amateurs and cut em from the team Ditch the clowns, get the crown Baby, Im the one to beat Cause the sign on your heart Said its still reserved for me Honestly, who are we to fight the alchemy? These blokes warm the benches Weve been on a winning streak He jokes that its heroin, but this time with an E Cause the sign on your heart Said its still reserved for me Honestly, who are we to fight the alchemy?  This happens once every few lifetimes These chemicals hit me like white wine',\n",
              " 'Forgive me, Peter My lost fearless leader In closets like cedar Preserved from when we were just kids Is it somethin I did? The goddess of timing Once found us beguiling She said she was trying Peter, was she lying? My ribs get the feeling she did   And I didnt wanna come down I thought it was just goodbye for now   You said you were gonna grow up Then you were gonna come find me Said you were gonna grow up Thеn you were gonna come find mе Said you were gonna grow up Then you were gonna come find me Words from the mouths of babes Promises oceans-deep But never to keep Oh, never to keep See Taylor Swift LiveGet tickets as low as $60You might also like Are you still a mind reader? A natural scene-stealer? Ive heard great things, Peter But life was always easier on you Than it was on me And sometimes it gets me When crossing your jet stream We both did the best we could do Underneath the same moon In different galaxies   And I didnt wanna hang around We said it was just goodbye for now   You said you were gonna grow up Then you were gonna come find me Said you were gonna grow up Then you were gonna come find me Said you were gonna grow up Then you were gonna come find me Words from the mouths of babes Promises oceans-deep But never to keep Never to keep  And I wont confess that I waited, but I let the lamp burn As the men masqueraded, I hoped youd return With your feet on the ground, tell me all that youd learned Cause loves never lost when perspective is earned And you said youd come and get me, but you were twenty-five And the shelf life of those fantasies has expired Lost to the Lost Boys chapter of your life Forgive me, Peter, please know that I tried To hold on (Hold on) to the days (To the days) When you were mine But the woman who sits by the window Has turned out the light   You said you were gonna grow up Then you were gonna come find me Said you were gonna grow up You said you were gonna grow up Then you were gonna come find me Said you were gonna grow up You said you were gonna grow up Then you were gonna come find me Said you were gonna grow up Then you were gonna come find me Said you were gonna grow up Then you were gonna come find me Words from the mouths of babes Promises oceans-deep But never to keep',\n",
              " 'Did you really beam me up In a cloud of sparkling dust Just to do experiments on? Tell me I was the chosen one Showed me that this world is bigger than us Then sent me back where I came from   For a moment, I knew cosmic love   Now Im down bad, cryin at the gym Everything comes out teenage petulance Fuck it if I cant have him I might just die, it would make no difference Down bad, wakin up in blood Starin at the sky, come back and pick me up Fuck it if I cant have us I might just not get up, I might stay   Down bad Fuck it if I cant have him Down bad Fuck it if I cant have him See Taylor Swift LiveGet tickets as low as $60You might also like Did you take all my old clothes Just to leave me here, naked and alone In a field in my same old town That somehow seems so hollow now? Theyll say Im nuts if I talk about The existence of you   For a moment, I was heavenstruck   Now Im down bad, cryin at the gym (Cryin at the gym) Everything comes out teenage petulance Fuck it if I cant have him (Fuck it if I cant have him) I might just die, it would make no difference Down bad, wakin up in blood (Wakin up in blood) Starin at the sky, come back and pick me up Fuck it if I cant have us I might just not get up, I might stay   Down bad (Like I lost my twin) Fuck it if I cant have him (Down bad) Down bad (Wavin at the ship) Fuck it if I cant have him  I loved your hostile takeovers Encounters closer and closer All your indecent exposures How dare you say that its— Ill build you a fort on some planet Where they can all understand it How dare you think its romantic Leaving me safe and stranded Cause fuck it, I was in love So fuck you if I cant have us Cause fuck it, I was in love   Now Im down bad, cryin at the gym (Cryin at the gym) Everything comes out teenage petulance Fuck it if I cant have him (Cant have him) I might just die, it would make no difference Down bad, wakin up in blood (Wakin up in blood) Starin at the sky, come back and pick me up Fuck it if I cant have us I might just not get up, I might stay   Down bad (Like I lost my twin) Fuck it if I cant have him (Im down bad) Down bad (Wavin at the ship) Fuck it if I cant have him  Like I lost my twin Fuck it if I cant have him Down bad (Wavin at the ship) Fuck it if I cant have him',\n",
              " 'You look like Clara Bow In this light, remarkable All your life, did you know Youd be picked\\u2005like\\u2005a rose?   Im not\\u2005trying to exaggerate But I think I\\u2005might die if it happened Die if it happened to me No one in my small town Thought Id see the lights of Manhattan   This town is fake, but youre the real thing Breath of fresh air through smoke rings Take the glory, give everything Promise to be dazzling  You look like Stevie Nicks In 75, the hair and lips Crowd goes wild at her fingertips Half moonshine, a full еclipse   Im not trying to exaggeratе But I think I might die if I made it, die if I made it No one in my small town thought Id meet these suits in L.A. They all wanna say... See Taylor Swift LiveGet tickets as low as $60You might also like This town is fake, but youre the real thing Breath of fresh air through smoke rings Take the glory, give everything Promise to be dazzling The crown is stained, but youre the real queen Flesh and blood amongst war machines Youre the new god were worshipping Promise to be dazzling   Beauty is a beast that roars down on all fours Demanding more Only when your girlish glow flickers just so Do they let you know Its hell on earth to be heavenly Thems the breaks, they dont come gently  You look like Taylor Swift In this light, were lovin it Youve got edge, she never did The futures bright, dazzling',\n",
              " 'Yeah   Lilac short skirt, the one that fits me like skin Did your research, you knew the price goin in And Ill tell you one thing, honey I can tell when somebody still wants me, come clean Standin at the bar like somethings funny, bubbly Once you fix your face, Im goin in (Yeah)   Whether Im gonna be your wife or Gonna smash up your bike, I havent decided yet But Im gonna get you back Whether Im gonna curse you out or Take you back to my house, I havent decidеd yet But Im gonna get you back   I, I hear thе whispers in your eyes Ill make you wanna think twice Youll find that you were never not mine (Youre mine)   Small talk, big love, act like I dont care what you did Im an Aston Martin that you steered straight into the ditch Then ran and hid And Ill tell you one thing, honey I can take the upper hand and touch your body Flip the script and leave you like a dumb house party Or I might just love you til the end See Taylor Swift LiveGet tickets as low as $60You might also like Whether Im gonna be your wife or Gonna smash up your bike, I havent decided yet But Im gonna get you back Whether Im gonna flip you off or Pull you into the closet, I havent decided yet But Im gonna get you back   I, I hear the whispers in your eyes Ill make you wanna think twice Youll find that you were never not mine (Youre mine)   I can feel it coming, humming in the way you move Push the reset button, were becomin something new Say you got somebody, Ill say I got someone too Even if its handcuffed, Im leavin here with you Bygones will be bygone, eras fadin into gray (Fading into gray) We broke all the pieces, but still wanna play the game (Oh) Told my friends I hate you, but I love you just the same Pick your poison, babe, Im poison either way   Whether Im gonna be your wife or Gonna smash up your bike, I havent decided yet But Im gonna get you back Whether Im gonna curse you out or Take you back to my house, I havent decided yet But Im gonna get you back  I, I hear the whispers in your eyes Ill make you wanna think twice Youll find that you were never not mine   Im gonna get you back',\n",
              " 'One, two, three, four   Hand on the throttle Thought I caught lightning in a bottle Oh, but its gone again And it was written I got cursed like Eve got bitten Oh, was it punishment? Pad around when I get home I guess a lesser woman wouldve lost hope A greater woman wouldnt beg But I looked to the sky and said   Please Ive been on my knees Change the prophecy Dont want money Just someone who wants my company Let it once be me Who do I have to speak to About if they can redo the prophеcy?   Cards on the table Mine play out likе fools in a fable Oh, it was sinking in (Sinking in, oh) Slow is the quicksand Poison blood from the wound of the pricked hand Oh, still I dream of him See Taylor Swift LiveGet tickets as low as $60You might also like Please Ive been on my knees Change the prophecy Dont want money Just someone who wants my company Let it once be me Who do I have to speak to About if they can redo the prophecy?   And I sound like an infant Feeling like the very last drops of an ink pen A greater woman stays cool But I howl like a wolf at the moon And I look unstable Gathered with a coven round a sorceress table A greater woman has faith But even statues crumble if theyre made to wait Im so afraid I sealed my fate No sign of soulmates Im just a paperweight in shades of greige Spending my last coin so someone will tell me itll be okay Ooh, ooh, ooh, ooh   Please Ive been on my knees Change the prophecy Dont want money Just someone who wants my company Let it once be me Who do I have to speak to About if they can redo the prophecy? Who do I have to speak to To change the prophecy?  Hand on the throttle Thought I caught lightning in a bottle Oh, but its gone again Pad around when I get home I guess a lesser woman wouldve lost hope A greater woman wouldnt beg But I looked to the sky and said (Please)',\n",
              " 'You can beat the heat if you beat the charges too They said I was a cheat, I guess it must be true And my friends all smell like weed or little babies And this city reeks of driving myself crazy   Little did you know your homes really only A town youre just a guest in So you work your life away just to pay For a time-share down in Destin   Florida Is one hell of a drug Florida Can I use you up?   The hurricane with my name when it came I got drunk and I dared it to wash me away Barricaded in the bathroom with a bottle of wine Well, me and my ghosts, wе had a hell of a time Yes, Im hauntеd, but Im feeling just fine All my girls got their lace and their crimes And your cheating husband disappeared, well No one asks any questions here So I did my best to lay to rest All of the bodies that have ever been on my body And in my mind, they sink into the swamp Is that a bad thing to say in a song? See Taylor Swift LiveGet tickets as low as $60You might also like Little did you know your homes really only The town youll get arrested So you pack your life away just to wait out The shitstorm back in Texas   Florida Is one hell of a drug Florida Can I use you up?   I need to forget, so take me to Florida Ive got some regrets, Ill bury them in Florida Tell me Im despicable, say its unforgivable At least the dolls are beautiful, fuck me up, Florida I need to forget, so take me to Florida Ive got some regrets, Ill bury them in Florida Tell me Im despicable, say its unforgivable What a crash, what a rush, fuck me up, Florida Its one hell of a drug Its one hell of a drug Love left me like this and I dont want to exist So take me to Florida  Little did you know your homes really only A town youre just a guest in (Florida) So you work your life away just to pay For a time-share down in Destin (Take me to Florida) Little did you know your homes really only The town youll get arrested (Florida) So you pack your life away just to wait out The shitstorm back in Texas   Florida Is one hell of a drug (Take me to) Florida Can I use you up? Florida Is one hell of a drug Florida Go on, fuck me up',\n",
              " 'I feel so high school every time I look at you I wanna find you in a crowd just to hide from you   And in a blink of a crinklin eye Im sinkin, our fingers entwined Cheeks pink in the twinklin lights Tell me bout the first time you saw me Ill drink what you think and Im high From smokin your jokes all damn night The brink of a wrinkle in time Bittersweet sixteen suddenly   Im watchin American Pie with you on a Saturday night Your friends are around, so be quiet Im tryin to stifle my sighs Cause I feel so high school every time I look at you But look at you   Ah-ah, ah-ah, ah   Are you gonna marry, kiss, or kill me? (Kill me) Its just a game, but really (Really) Im bettin on all three (All three) for us two Get my car door, isnt that sweet? (That sweet) Then pull me to thе back seat (The back seat) No onеs ever had me (Had me), not like you See Taylor Swift LiveGet tickets as low as $60You might also like Truth, dare, spin bottles You know how to ball, I know Aristotle Brand new, full throttle Touch me while your bros play Grand Theft Auto Its true, swear, scouts honor You knew what you wanted and, boy, you got her Brand new, full throttle You already know, babe   I feel like laughin in the middle of practice Do that impression you did of your dad again Im hearing voices like a madman   And in a blink of a crinklin eye Im sinkin, our fingers entwined Cheeks pink in the twinklin lights Tell me bout the first time you saw me Ill drink what you think, and Im high From smokin your jokes all damn night The brink of a wrinkle in time Bittersweet sixteen suddenly   Im watchin American Pie with you on a Saturday night Your friends are around, so be quiet Im tryin to stifle my sighs Cause I feel so high school (Feel so high school) every time I look at you But look at you  Truth, dare, spin bottles You know how to ball, I know Aristotle Brand new, full throttle Touch me while your bros play Grand Theft Auto Its true, swear, scouts honor (Yeah) You knew what you wanted and, boy, you got her Brand-new, full throttle (Yeah) You already know, babe You already know, babe',\n",
              " 'I forget how the West was won I forget if this was ever fun I just learned these people only raise you To cage you Sarahs and Hannahs in their Sunday best Clutchin their pearls, sighing, What a mess I just learned these people try and save you Cause they hate you   Too high a horse For a simple girl To rise above it They slammed the door On my whole world The one thing I wanted   Now Im runnin with my dress unbuttoned Scrеamin, But, Daddy, I love him Im havin his baby No, Im not, but you should see your faces Im tellin him to floor it through thе fences No, Im not coming to my senses I know hes crazy, but hes the one I want See Taylor Swift LiveGet tickets as low as $60You might also like Dutiful daughter, all my plans were laid Tendrils tucked into a woven braid Growin up precocious sometimes means Not growin up at all He was chaos, he was revelry Bedroom eyes like a remedy Soon enough, the elders had convened Down at the city hall   Stay away from her The saboteurs Protested too much Lord knows the words We never heard Just screeching tires and true love   And Im runnin with my dress unbuttoned Screamin, But, Daddy, I love him Im havin his baby No, Im not, but you should see your faces Im tellin him to floor it through the fences No, Im not coming to my senses I know hes crazy, but hes the one I want  Ill tell you something right now Id rather burn my whole life down Than listen to one more second of all this bitchin and moanin Ill tell you something bout my good name Its mine alone to disgrace I dont cater to all these vipers dressed in empaths clothing   God save the most judgmental creeps Who say they want whats best for me Sanctimoniously performing soliloquies Ill never see Thinkin it can change the beat Of my heart when he touches me And counteract the chemistry And undo the destiny You aint gotta pray for me Me and my wild boy and all of this wild joy If all you want is gray for me Then its just white noise, and its just my choice   Theres a lot of people in town that I Bestow upon my fakest smiles Scandal does funny things to pride, but brings lovers closer We came back when the heat died down Went to my parents and they came around All the wine moms are still holdin out, but fuck em, its over  Now Im dancin in my dress in the sun and Even my daddy just loves him Im his lady And, oh my God, you should see your faces Time, doesnt it give some perspective? And, no, you cant come to the wedding I know its crazy, but hes the one I want   Ill tell you something right now You aint gotta pray for me Me and my wild boy and all of this wild joy (He was chaos, he was revelry) If all you want is gray for me Then its just white noise, and its my choice   Screamin, But, Daddy, I love him Im having his baby No, Im not But you should see your faces But, oh my God, you should see your faces (He was chaos, he was revelry) (He was chaos, he was revelry)',\n",
              " 'Now, pretty baby, Im runnin back home to you Fresh out the slammer, I know who my first call will be to (Fresh out the slammer, oh)   Another summer takin cover, rolling thunder He dont understand me Splintered back in winter, silent dinners, bitter He was with her in dreams   Gray and blue and fights and tunnels Handcuffed to the spell I was under For just one hour of sunshine Years of labor, locks, and ceilings In the shade of how he was feeling But its gonna be alright, I did my time   Now, pretty baby, Im runnin back home to you Frеsh out the slammer, I know who my first call will be to (Frеsh out the slammer, oh)   Camera flashes, welcome bashes, get the matches Toss the ashes off the ledge As I said in my letters, now that I know better I will never lose my baby again See Taylor Swift LiveGet tickets as low as $60You might also like My friends tried, but I wouldnt hear it Watch me daily disappearing For just one glimpse of his smile All those nights, he kept me goin Swirled you into all of my poems Now were at the starting line, I did my time   Now, pretty baby, Im runnin   To the house where you still wait up and that porch light gleams (Gleams) To the one who says Im the girl of his American dreams And no matter what Ive done, it wouldnt matter anyway Aint no way Im gonna screw up now that I know whats at stake here At the park where we used to sit on childrens swings Wearing imaginary rings   But its gonna be alright, I did my time',\n",
              " 'Whos gonna stop us from waltzing back into rekindled flames If we know the steps anyway? We embroidered the memories of the time I was away Stitching, We were just kids, babe I said, I dont mind, it takes time I thought I was better safe than starry-eyed I felt aglow like this Never before and never since   If you know it in one glimpse, its legendary You and I go from one kiss to getting married Still alivе, killing time at the cemеtery Never quite buried In your suit and tie, in the nick of time You low-down boy, you stand-up guy You Holy Ghost, you told me Im the love of your life You said Im the love of your life About a million times   Whos gonna tell me the truth when you blew in with the winds of fate And told me I reformed you? When your impressionist paintings of heaven turned out to be fakes Well, you took me to hell too And all at once, the ink bleeds A con man sells a fool a get-love-quick scheme But Ive felt a hole like this Never before and ever since See Taylor Swift LiveGet tickets as low as $60You might also like If you know it in one glimpse, its legendary What we thought was for all time was momentary Still alive, killing time at the cemetery Never quite buried You cinephile in black and white All those plot twists and dynamite Mr. Steal Your Girl, then make her cry You said Im the love of your life   You shit-talked me under the table Talkin rings and talkin cradles I wish I could un-recall How we almost had it all Dancing phantoms on the terrace Are they second-hand embarrassed That I cant get out of bed Cause something counterfeits dead? It was legendary It was momentary It was unnecessary Shouldve let it stay buried   Oh, what a valiant roar What a bland goodbye The coward claimed he was a lion Im combing through the braids of lies Ill never leave, Never mind Our field of dreams engulfed in fire Your arsons match, your somber eyes And Ill still see it until I die Youre the loss of my life',\n",
              " 'So (So) long (Long), London (London) So (So) long (Long), London (London) So (So) long (Long), London (London)  I saw in my mind fairy lights through the mist I kept calm and carried the weight of the rift Pulled him in tighter each time he was driftin away My spine split from carrying us up the hill Wet through my clothes, weary bones caught the chill I stopped tryna make him laugh, stopped tryna drill the safe   Thinkin, How much sad did you think I had Did you think I had in me? Oh, the tragedy So long, London Youll find someone   I didnt opt in to be your odd man out I founded the club shes heard great things about I left all I knew, you left me at the house by the Heath I stoppеd CPR, after all, its no use The spirit was gonе, we would never come to And Im pissed off you let me give you all that youth for free See Taylor Swift LiveGet tickets as low as $60You might also like For so long, London Stitches undone Two graves, one gun Ill find someone   And you say I abandoned the ship But I was going down with it My white-knuckle dying grip Holding tight to your quiet resentment And my friends said it isnt right to be scared Every day of a love affair Every breath feels like rarest air When youre not sure if he wants to be there   So how much sad did you think I had Did you think I had in me? How much tragedy? Just how low did you Think Id go fore Id self-implode? Fore Id have to go be free?   You swore that you loved me, but where were the clues? I died on the altar waitin for the proof You sacrificed us to the gods of your bluest days And Im just getting color back into my face Im just mad as hell cause I loved this place for  So (So) long (Long), London (London) Had (Had) a (A) good (Good) run (Run) A moment (Moment) of warm sun (Sun) But Im (Im) not (Not) the (The) one (One) So (So) long (Long), London (London) Stitches (Stitches) undone (Undone) Two (Two) graves (Graves) one gun (Gun) Youll (Youll) find (Find) someone',\n",
              " 'Oh, here we go again The voices in his head Called the rain to end our days of wild The sickest army doll Purchased at the mall Rivulets descend my plastic smile   But you shouldve seen him when he first got me   My boy only breaks his favorite toys, toys, oh Im queen of sand castles he destroys, oh, oh Cause it fit too right, puzzle pieces in the dead of night I shouldve known it was a matter of time, oh, oh My boy only breaks his favorite toys, oh, oh   There was a litany of reasons why We couldve playеd for keeps this time I know Im just repeating mysеlf Put me back on my shelf But first, pull the string And Ill tell you that he runs Because he loves me (He loves me) See Taylor Swift LiveGet tickets as low as $60You might also like Cause you shouldve seen him when he first saw me   My boy (My boy), only breaks his favorite toys, toys, oh Im queen (Im queen), of sand castles he destroys, oh, oh Cause I knew too much, there was danger in the heat of my touch He saw forever, so he smashed it up, oh, oh My boy (My boy), only breaks his favorite toys, oh, oh   Once I fix me Hes gonna miss me Once I fix me Hes gonna miss me   Just say when, Id play again He was my best friend down at the sandlot I felt more when we played pretend Than with all the Kens Cause he took me out of my box Stole my tortured heart Left all these broken parts Told me Im better off But Im not Im not, Im not',\n",
              " 'By all accounts, she almost drowned When she was six in frigid water And I can confirm she made A curious child, ever reviled By everyone except her own father With a quite bewitching face Splendidly selfish, charmingly helpless Excellent fun til you get to know her Then she runs like its a race Behind her back, her best mates laughed And they nicknamed her The Bolter   Started with a kiss Oh, we must stop meeting like this But it always ends up with a town car speeding Out the drive one evening Ended with the slam of a door Then hell call her a whore Wish he wouldnt be sore But as she was leaving It felt like breathing   All her fuckin lives Flashed before her eyes It feels like the time She fell through the ice Then came out alive See Taylor Swift LiveGet tickets as low as $60You might also like He was a cad, wanted her bad Just like any good trophy hunter And she liked the way it tastes Taming a bear, making him care Watching him jump then pulling him under And at first blush, this is fate When its all roses, portrait poses Central Park Lake in tiny rowboats What a charming Saturday Thats when she sees the littlest leaks Down in the floorboards And she just knows she must bolt   Started with a kiss Oh, we must stop meeting like this But it always ends up with a town car speeding Out the drive one evening Ended with the slam of a door Then hell call her a whore Wish he wouldnt be sore But as she was leaving It felt like breathing   All her fuckin lives Flashed before her eyes (Ah-ah-ah) It feels like the time She fell through the ice Then came out alive  Shes been many places with Men of many faces First, theyre off to the races And shes laughing, drawin aces But none of it is changin That the chariot is waitin Hearts are hers for the breakin Theres escape in escaping   Started with a kiss Oh, we must stop meeting like this But it always ends up with a town car speeding Out the drive one evenin Ended with the slam of a door But shes got the best stories You can be sure That as she was leaving It felt like freedom   All her fuckin lives Flashed before her eyes (And she realized) It feels like the time She fell through the ice Then came out alive',\n",
              " 'Wise men once said Wild winds are death to the candle A rose by any other name is a scandal Cautions issued, he stood Shooting the messengers They tried to warn him about her   Cross your thoughtless heart Only liquor anoints you Shes the albatross She is here to destroy you   Wise men once said One bad seed kills the garden One less temptress, one less dagger to sharpen Locked me up in towers But Id visit in your dreams And they tried to warn you about me   Cross your thoughtless heart Only liquor anoints you Shes the albatross She is here to destroy you Devils that you know Raise worse hell than a stranger Shes the death you chose Youre in terrible danger See Taylor Swift LiveGet tickets as low as $60You might also like And when that sky rains fire on you And youre persona non grata Ill tell you how Ive been there too And that none of it matters   Wise men once read fake news And they believed it Jackals raised their hackles You couldnt conceive it You were sleeping soundly When they dragged you from your bed And I tried to warn you about them   So I crossed my thoughtless heart Spread my wings like a parachute Im the albatross I swept in at the rescue The devil that you know Looks now more like an angel Im the life you chose And all this terrible danger (This terrible danger)  So cross your thoughtless heart Shes the albatross She is here to destroy you',\n",
              " 'Your hologram stumbled into my apartment Hands in the hair of somebody in darkness Named Chloe or Sam or Sophia or Marcus And I just watched it happen As the decade would play us for fools And you saw my bones out with somebody new Who seemed like he wouldve bullied you in school And you just watched it happen   If you wanna break my cold, cold heart Just say, I loved you the way that you were If you wanna tear my world apart Just say youve always wondered   You said some things that I cant unabsorb You turned me into an idea of sorts You needed me, but you needed drugs more And I couldnt watch it happen I changed into goddesses, villains, and fools Changed plans and lovers and outfits and rules All to outrun my desertion of you And you just watched it See Taylor Swift LiveGet tickets as low as $60You might also like If you wanna break my cold, cold heart Just say, I loved you the way that you were If you wanna tear my world apart Just say youve always wondered   If the glint in my eye traced the depths of your sigh Down that passage in time back to the moment I crashed into you, like so many wrecks do Too impaired by my youth to know what to do   So if I sell my apartment And you have some kids with an internet starlet Will that make your memory fade from this scarlet maroon Like it never happened? Could it be enough to just float in your orbit? Can we watch our phantoms like watching wild horses? Cooler in theory, but not if you force it to be It just didnt happen   So if you wanna break my cold, cold heart Say you loved me And if you wanna tear my world apart Say youll always wonder  Cause I wonder Will I always Will I always wonder?',\n",
              " 'Quick, quick, tell me something awful Like you are a poet trapped inside the body of a finance guy Tell me all your secrets, all youll ever be is My eternal consolation prize You see, I was a debutante in another life, but Now I seem to be scared to go outside If comfort is a construct, I dont believe in good luck Now that I know whats what   I hate it here so I will go to secret gardens in my mind People need a key to get to, the only one is mine I read about it in a book when I was a precocious child No mid-sized city hopes and small-town fears Im there most of the year cause I hate it here I hate it here   My friends used to play a game where We would pick a decade We wished we could live in instead of this Id say the 1830s but without all the racists And getting married off for the highest bid Everyone would look down cause it wasnt fun now Seems like it was never even fun back then Nostalgia is a minds trick If Id been there, Id hate it It was freezing in the palace See Taylor Swift LiveGet tickets as low as $60You might also like I hate it here so I will go to lunar valleys in my mind When they found a better planet, only the gentle survived I dreamed about it in the dark, the night I felt like I might die No mid-sized city hopes and small-town fears Im there most of the year cause I hate it here I hate it here   Im lonely, but Im good Im bitter, but I swear Im fine Ill save all my romanticism for my inner life and Ill get lost on purpose This place made me feel worthless Lucid dreams like electricity, the current flies through me And in my fantasies, I rise above it And way up there, I actually love it   I hate it here so I will go to secret gardens in my mind People need a key to get to, the only one is mine I read about it in a book when I was a precocious child No mid-sized city hopes and small-town fears Im there most of the year cause I hate it here I hate it here   Quick, quick, tell me something awful Like you are a poet trapped inside the body of a finance guy',\n",
              " 'I can read your mind Shes having the time of her life There in her glittering prime The lights refract sequin stars off her silhouette every night I can show you lies (One, two, three, four)   Cause Im a real tough kid I can handle my shit They said, Babe, you gotta fake it til you make it and I did Lights, camera, bitch, smile Even when you wanna die He said hed love me all his life But that life was too short Breaking down, I hit the floor All the piеces of me shatterеd as the crowd was chanting, More I was grinnin like Im winnin I was hittin my marks Cause I can do it with a broken heart (One, two, three, four)  Im so depressed, I act like its my birthday every day Im so obsessed with him, but he avoids me like the plague I cry a lot, but I am so productive, its an art You know youre good when you can even do it with a broken heart See Taylor Swift LiveGet tickets as low as $60You might also like I can hold my breath Ive been doin it since he left I keep finding his things in drawers Crucial evidence I didnt imagine the whole thing Im sure I can pass this test (One, two, three, four)   Cause Im a real tough kid I can handle my shit They said, Babe, you gotta fake it til you make it and I did Lights, camera, bitch, smile In stilettos for miles He said hed love me for all time But that time was quite short Breaking down, I hit the floor All the pieces of me shattered as the crowd was chanting, More I was grinnin like Im winnin I was hittin my marks Cause I can do it with a broken heart (One, two, three, four)   Im so depressed, I act like its my birthday every day Im so obsessed with him, but he avoids me (He avoids me), like the plague I cry a lot, but I am so productive, its an art You know youre good when you can even do it with a broken heart  You know youre good when you can even do it with a broken heart You know youre good And Im good Cause Im miserable (Haha) And nobody even knows Ah, try and come for my job',\n",
              " 'You left your typewriter at my apartment Straight from the tortured poets department I think some things I never say Like, Who uses typewriters anyway? But youre in self-sabotage mode Throwing spikes down on the road But Ive seen this episode and still loved the show Who else decodes you?   And whos gonna hold you like me? And whos gonna know you, if not me? I laughed in your face and said Youre not Dylan Thomas, Im not Patti Smith This aint the Chelsea Hotel, werе modern idiots And whos gonna hold you like me?   Nobody No-fucking-body Nobody   You smokеd, then ate seven bars of chocolate We declared Charlie Puth should be a bigger artist I scratch your head, you fall asleep Like a tattooed golden retriever But you awaken with dread Pounding nails in your head But Ive read this one where you come undone I chose this cyclone with you See Taylor Swift LiveGet tickets as low as $60You might also like And whos gonna hold you like me? (Whos gonna hold you? Whos gonna hold you?) And whos gonna know you like me? (Whos gonna know you?) I laughed in your face and said Youre not Dylan Thomas, Im not Patti Smith This aint the Chelsea Hotel, were modern idiots And whos gonna hold you like me? (Whos gonna hold you? Whos gonna hold you?)   No-fucking-body (Whos gonna hold you? Whos gonna hold you?) Nobody (Whos gonna hold you? Gonna know you? Gonna troll you?) Nobody   Sometimes, I wonder if youre gonna screw this up with me But you told Lucy youd kill yourself if I ever leave And I had said that to Jack about you, so I felt seen Everyone we know understands why its meant to be Cause were crazy So tell me, who else is gonna know me? At dinner, you take my ring off my middle finger And put it on the one people put wedding rings on And thats the closest Ive come to my heart exploding  Whos gonna hold you? (Who?) Me Whos gonna know you? (Who?) Me And youre not Dylan Thomas, Im not Patti Smith This aint the Chelsea Hotel, were two idiots Whos gonna hold you?   Whos gonna hold you? Whos gonna hold you? Whos gonna hold you? Whos gonna hold you? Whos gonna hold you? Whos gonna hold you? Whos gonna hold you? Gonna know you? Gonna troll you?   You left your typewriter at my apartment Straight from the tortured poets department Who else decodes you?',\n",
              " 'The smoke cloud billows out his mouth Like a freight train through a small town The jokes that he told across the bar Were revolting and far too loud   They shake their heads sayin, God, help her When I tell em hes my man But your good Lord doesnt need to lift a finger I can fix him, no, really, I can And only I can   The dopamine races through his brain On a six-lane Texas highway His hand so calloused from his pistol Softly traces hearts on my face And I could see it from a mile away A perfect case for my certain skill set He had a halo of the highest gradе He just hadnt met me yеt   They shake their heads sayin, God, help her When I tell em hes my man But your good Lord doesnt need to lift a finger I can fix him, no, really, I can And only I can See Taylor Swift LiveGet tickets as low as $60You might also like Good boy, thats right, come close Ill show you Heaven if youll be an angel, all night Trust me, I can handle me a dangerous man No, really, I can   They shook their heads sayin, God, help her When I told em hes my man (I told em hes my man) But your good Lord didnt need to lift a finger I can fix him, no, really, I can (No, really, I can) Woah, maybe I cant',\n",
              " 'I am someone who until recent events You shared your secrets with And your location, you forgot to turn it off And so I watch as you walk Into some bar called The Black Dog And pierce new holes in my heart You forgot to turn it off And it hits me   I just dont understand How you dont miss me in The Black Dog When someone plays The Starting Line And you jump up, but shes too young to know this song That was intertwined in the magic fabric of our dreaming Old habits die screaming   I move through the world with the heartbroken My longings stay unspoken And I may never open up thе way I did for you And all of those best laid plans You said I needed a bravе man Then proceeded to play him Until I believed it too And it kills me See Taylor Swift LiveGet tickets as low as $60You might also like I just dont understand How you dont miss me in the shower And remember how my rain-soaked body Was shakin, do you hate me? Was it hazing? For a cruel fraternity I pledged and I still mean it Old habits die screaming   Six weeks of breathin clean air I still miss the smoke Were you makin fun of me With some esoteric joke? Now I wanna sell my house And set fire to all my clothes And hire a priest to come and exorcise my demons Even if I die screaming And I hope you hear it   And I hope its shitty in The Black Dog When someone plays The Starting Line And you jump up, but shes too young to know this song That was intertwined in the tragic fabric of our dreaming Cause tail between your legs, youre leavin  I still cant believe it Cause old habits die screaming',\n",
              " 'Long may you reign Youre an animal, you are bloodthirsty Out window panes talking utter nonsense You have no idea   Strings tied to levers Slowed-down clocks tethered All this showmanship To keep it for you in sweetness   Way to go, tiger Higher and higher Wilder and lighter For you   Long may you roar At your dinosaurs Youre a just ruler Covered in mud, you look ridiculous And you have no idea   Buried down deep And out of your reach The secret we all vowed To keep it from you in sweetness See Taylor Swift LiveGet tickets as low as $60You might also like Way to go, tiger Higher and higher Wilder and lighter For you   You got the dragonflies above your bed You have a favorite spot on the swing set You have no room in your dreams for regrets (You have no idea) The time will arrive for the cruel and the mean Youll learn to bounce back just like your trampoline But now well curtail your curiosity In sweetness   Way to go, tiger (Way to go, tiger) Higher and higher (Higher and higher) Wilder and lighter For you',\n",
              " 'Now and then, she rereads the manuscript Of the entire torrid affair They compared their licenses He said, Im not a donor but Id give you my heart if you needed it She rolled her eyes and said Youre a professional He said, No, just a good samaritan He said that if the sex was half as good as the conversation was Soon, theyd be pushin strollers But, soon, it was over   In the age of him, she wished she was thirty And made coffee every morning in a Frеnch press Afterwards, she only atе kids cereal And couldnt sleep unless it was in her mothers bed Then she dated boys who were her own age With dart boards on the backs of their doors She thought about how he said since she was so wise beyond her years Everything had been above board She wasnt sure   And the years passed like scenes of a show The professor said to write what you know Lookin backwards might be the only way to move forward Then the actors were hitting their marks And the slow dance was alight with the sparks And the tears fell in synchronicity with the score And at last, she knew what the agony had been for See Taylor Swift LiveGet tickets as low as $60You might also like The only thing thats left is the manuscript One last souvenir from my trip to your shores Now and then, I reread the manuscript But the story isnt mine anymore',\n",
              " 'I was in my new house placing daydreams Patching up the crack along the wall I pass it and lose track of what Im saying Cause thats where I was when I got the call   When the first stones thrown, theres screamin In the streets, theres a raging riot When its Burn the bitch, theyre shrieking When the truth comes out, its quiet   So, they killed Cassandra first cause she feared the worst And tried to tell the town So they filled my cell with snakes, I regret to say Do you believe me now?   I was in my tower weaving nightmares Twisting all my smiles into snarls They say, What doesnt kill you makes you aware What happens if it becomes who you are?   So, they killed Cassandra first cause she feared the worst And tried to tell the town So they set my life in flames, I regret to say Do you believe me now? See Taylor Swift LiveGet tickets as low as $60You might also like They knew, they knew, they knew the whole time That I was onto somethin The family, the pure greed, the Christian chorus line They all said nothin Bloods thick, but nothin like a payroll Bet they never spared a prayer for my soul You can mark my words that I said it first In a mourning warning, no one heard   I patched up the crack along the wall I pass it and lose track of what Im saying Cause thats where I was when I lost it all   So, they killed Cassandra first cause she feared the worst And tried to tell the town So they filled my cell with snakes, I regret to say Do you believe me now?   Ah, ah, ah I was onto somethin Ah, ah They all said nothin Bloods thick but nothin like a payroll Bet they never spared a prayer for my soul You can mark my words that I said it first In a mourning warning, no one heard No one heard, not a single word was heard  When the first stones thrown, theres screamin In the streets, theres a raging riot When its Burn the bitch, theyre shrieking When the truth comes out, its quiet Its so quiet',\n",
              " 'I had died the tiniest death I spied the catch in your breath Out, out, out, out, out, out Northbound I got carried away As you boarded your train South, south, south, south, south, south   A feather taken by the wind blowing Im afflicted by the not knowing, so   I look in peoples windows Transfixed by rose golden glows They have their friends over to drink nice wine I look in peoples windows In case youre at their table What if your eyes looked up and met mine One more time?   You had stopped and tiltеd your head I still ponder what it meant Now, now, now, now, now, now I triеd searching faces on streets What are the chances youd be Downtown, downtown, downtown See Taylor Swift LiveGet tickets as low as $60You might also like Does it feel alright to not know me? Im addicted to the if only   So I look in peoples windows Like Im some deranged weirdo I attend Christmas parties from outside I look in peoples windows In case youre at their table What if your eyes looked up and met mine One more time?',\n",
              " 'Was any of it true? Gazing at me starry-eyed In your Jehovahs Witness suit Who the fuck was that guy? You tried to buy some pills From a friend of friends of mine They just ghosted you Now you know what it feels like   And I dont even want you back, I just want to know If rusting my sparkling summer was the goal And I dont miss what we had, but could someone give A message to the smallest man who ever lived?   You hung me on your wall Stabbed me with your push pins In public, showed me off Then sank in stoned oblivion Cause once your queen had come Youd treat her likе an also-ran You didnt measure up In any measurе of a man See Taylor Swift LiveGet tickets as low as $60You might also like And I dont even want you back, I just want to know If rusting my sparkling summer was the goal And I dont miss what we had, but could someone give A message to the smallest man who ever lived?   Were you sent by someone who wanted me dead? Did you sleep with a gun underneath our bed? Were you writin a book? Were you a sleeper cell spy? In fifty years, will all this be declassified? And youll confess why you did it and Ill say, Good riddance Cause it wasnt sexy once it wasnt forbidden I wouldve died for your sins, instead, I just died inside And you deserve prison, but you wont get time Youll slide into inboxes and slip through the bars You crashed my party and your rental car You said normal girls were boring But you were gone by the morning You kicked out the stage lights, but youre still performing   And in plain sight you hid But you are what you did And Ill forget you, but Ill never forgive The smallest man who ever lived',\n",
              " 'I was supposed to be sent away But they forgot to come and get me I was a functioning alcoholic Til nobody noticed my new aesthetic All of this to say I hope youre okay But youre the reason And no one heres to blame But what about your quiet treason?   And for a fortnight there, we were forever Run into you sometimes, ask about the weather Now youre in my backyard, turned into good neighbors Your wife waters flowers, I wanna kill her   All my mornings are Mondays stuck in an endless February I took the miracle move-on drug, the effects were temporary And I love you, its ruining my life I love you, its ruining my life I touched you for only a fortnight I touched you, but I touched you   And for a fortnight there, we were forever Run into you sometimes, ask about the weather Now youre in my backyard, turned into good neighbors Your wife waters flowers, I wanna kill her And for a fortnight there, we were together Run into you sometimes, comment on my sweater Now youre at the mailbox, turned into good neighbors My husband is cheating, I wanna kill him See Taylor Swift LiveGet tickets as low as $60You might also like I love you, its ruining my life I love you, its ruining my life I touched you for only a fortnight I touched you, I touched you I love you, its ruining my life I love you, its ruining my life I touched you for only a fortnight I touched you, I touched you   Thought of callin ya, but you wont pick up Nother fortnight lost in America Move to Florida, buy the car you want But it wont start up til you touch, touch, touch me Thought of calling ya, but you wont pick up Nother fortnight lost in America Move to Florida, buy the car you want But it wont start up til I touch, touch, touch you',\n",
              " 'When I picture my hometown Theres a bronze, spray-tanned statue of you And a plaque underneath it That threatens to push me down the stairs at our school   And it was always the same searing pain But I dreamed that one day I could say   All that time you were throwin punches, I was buildin somethin And I cant forgive the way you made me feel Screamed, Fuck you, Aimee to the night sky as the blood was gushin But I cant forget the way you made me heal   And it wasnt a fair fight Or a clean kill each time that Aimee stompеd across my grave And then she wrotе headlines In the local paper, laughing at each baby step Id take   And it was always the same searing pain But I prayed that one day I could say See Taylor Swift LiveGet tickets as low as $60You might also like All that time you were throwin punches, I was buildin somethin And I couldnt wait to show you it was real Screamed, Fuck you, Aimee to the night sky as the blood was gushin But I cant forget the way you made me heal Everyone knows that my mother is a saintly woman But she used to say she wished that you were dead I pushed each boulder up the hill Your words are still just ringin in my head, ringin in my head   I wrote a thousand songs that you find uncool I built a legacy that you cant undo But when I count the scars, theres a moment of truth That there wouldnt be this if there hadnt been you   And maybe youve reframed it And in your mind, you never beat my spirit black and blue I dont think youve changed much And so I changed your name and any real defining clues And one day, your kid comes home singin A song that only us two is gonna know is about you, cause   All that time you were throwin punches, it was all for nothin And our town, it looks so small from way up here Screamed, Thank you, Aimee to the night sky and the stars are stunnin Cause I cant forget the way you made me heal Everyone knows that my mother is a saintly woman But she used to say she wished that you were dead So I pushed each boulder up that hill Your words were still just ringin in my head, ringin in my head  Thank you, Aimee Thank you, Aimee',\n",
              " 'The whos who of Whos that? is poised for the attack But my bare hands paved their paths You dont get to tell me about sad   If you wanted me dead, you shouldve just said Nothing makes me feel more alive   So I leap from the gallows and I levitate down your street Crash the party like a record scratch as I scream Whos afraid of little old me? You should be   The scandal was contained The bullet had just grazed At all costs, keep your good name You dont get to tell me you feel bad   Is it a wonder I broke? Lets hear one morе joke Then we could all just laugh until I cry   So I lеap from the gallows and I levitate down your street Crash the party like a record scratch as I scream Whos afraid of little old me? I was tame, I was gentle til the circus life made me mean Dont you worry, folks, we took out all her teeth Whos afraid of little old me? Well, you should be See Taylor Swift LiveGet tickets as low as $60You might also like (You should be) You should be (You should be) You should be You should be (You should be) You should be (You should be) You should be   So tell me everything is not about me But what if it is? Then say they didnt do it to hurt me But what if they did? I wanna snarl and show you just how disturbed this has made me You wouldnt last an hour in the asylum where they raised me So all you kids can sneak into my house with all the cobwebs Im always drunk on my own tears, isnt that what they all said? That Ill sue you if you step on my lawn That Im fearsome and Im wretched and Im wrong Put narcotics into all of my songs And thats why youre still singin along   So I leap from the gallows and I levitate down your street Crash the party like a record scratch as I scream Whos afraid of little old me? I was tame, I was gentle til the circus life made me mean Dont you worry, folks, we took out all her teeth Whos afraid of little old me? Well, you should be  (You should be) You should be (You should be) You should be Cause you lured me (You should be) And you hurt me (You should be) And you taught me   You caged me and then you called me crazy I am what I am cause you trained me So whos afraid of me? Whos afraid of little old me? Whos afraid of little old me?',\n",
              " 'Drownin in the Blue Nile He sent me Downtown Lights I hadnt heard it in a while My boredoms bone-deep This cage was once just fine Am I allowed to cry? I dream of crackin locks Throwin my life to the wolves or the ocean rocks Crashin into him tonight, hes a paradox Im seeing visions Am I bad or mad or wise?   What if hes written mine on my upper thigh only in my mind? One slip and fallin back into the hedge maze Oh, what a way to die I keep recalling things we never did Messy top-lip kiss, how I long for our trysts Without ever touchin his skin How can I be guilty as sin?   I keep these longings lockеd In lowercase, inside a vault Somеone told me, Theres no such thing as bad thoughts Only your actions talk These fatal fantasies Giving way to labored breath, takin all of me Weve already done it in my head If its make-believe Why does it feel like a vow well both uphold somehow? See Taylor Swift LiveGet tickets as low as $60You might also like What if hes written mine on my upper thigh only in my mind? One slip and fallin back into the hedge maze Oh, what a way to die My bed sheets are ablaze Ive screamed his name Buildin up like waves crashin over my grave Without ever touchin his skin How can I be guilty as sin?   What if I roll the stone away? Theyre gonna crucify me anyway What if the way you hold me is actually whats holy? If long-suffering propriety is what they want from me They dont know how youve haunted me so stunningly I choose you and me religiously   What if hes written mine on my upper thigh only in my mind? One slip and fallin back into the hedge maze Oh, what a way to die I keep recalling things we never did Messy top-lip kiss, how I long for our trysts Without ever touchin his skin How can I be guilty as sin?  He sent me Downtown Lights I hadnt heard it in a while Am I allowed to cry?']"
            ]
          },
          "metadata": {},
          "execution_count": 130
        }
      ]
    },
    {
      "cell_type": "code",
      "source": [
        "for album in albums:\n",
        "  read_docs(\"/content/TS_SBERT/\" + album, album)"
      ],
      "metadata": {
        "id": "_rBZ3UhxH1m2"
      },
      "execution_count": null,
      "outputs": []
    },
    {
      "cell_type": "code",
      "source": [
        "print(len(songs))\n",
        "print(len(song_titles))"
      ],
      "metadata": {
        "colab": {
          "base_uri": "https://localhost:8080/"
        },
        "id": "5UKq5fHNbmXM",
        "outputId": "ed824a9d-d776-4de8-f78e-e7bcc501e85a"
      },
      "execution_count": 95,
      "outputs": [
        {
          "output_type": "stream",
          "name": "stdout",
          "text": [
            "240\n",
            "240\n"
          ]
        }
      ]
    },
    {
      "cell_type": "markdown",
      "source": [
        "# SBERT"
      ],
      "metadata": {
        "id": "5Z5K7LcwZ8Xb"
      }
    },
    {
      "cell_type": "code",
      "source": [
        "!pip install -U sentence-transformers"
      ],
      "metadata": {
        "colab": {
          "base_uri": "https://localhost:8080/"
        },
        "id": "qDatIjTzZ_om",
        "outputId": "ae83c146-fd03-49a2-942d-2d6165197d31"
      },
      "execution_count": 74,
      "outputs": [
        {
          "output_type": "stream",
          "name": "stdout",
          "text": [
            "Requirement already satisfied: sentence-transformers in /usr/local/lib/python3.10/dist-packages (3.0.1)\n",
            "Requirement already satisfied: transformers<5.0.0,>=4.34.0 in /usr/local/lib/python3.10/dist-packages (from sentence-transformers) (4.42.4)\n",
            "Requirement already satisfied: tqdm in /usr/local/lib/python3.10/dist-packages (from sentence-transformers) (4.66.4)\n",
            "Requirement already satisfied: torch>=1.11.0 in /usr/local/lib/python3.10/dist-packages (from sentence-transformers) (2.3.1+cu121)\n",
            "Requirement already satisfied: numpy in /usr/local/lib/python3.10/dist-packages (from sentence-transformers) (1.25.2)\n",
            "Requirement already satisfied: scikit-learn in /usr/local/lib/python3.10/dist-packages (from sentence-transformers) (1.2.2)\n",
            "Requirement already satisfied: scipy in /usr/local/lib/python3.10/dist-packages (from sentence-transformers) (1.11.4)\n",
            "Requirement already satisfied: huggingface-hub>=0.15.1 in /usr/local/lib/python3.10/dist-packages (from sentence-transformers) (0.23.5)\n",
            "Requirement already satisfied: Pillow in /usr/local/lib/python3.10/dist-packages (from sentence-transformers) (9.4.0)\n",
            "Requirement already satisfied: filelock in /usr/local/lib/python3.10/dist-packages (from huggingface-hub>=0.15.1->sentence-transformers) (3.15.4)\n",
            "Requirement already satisfied: fsspec>=2023.5.0 in /usr/local/lib/python3.10/dist-packages (from huggingface-hub>=0.15.1->sentence-transformers) (2023.6.0)\n",
            "Requirement already satisfied: packaging>=20.9 in /usr/local/lib/python3.10/dist-packages (from huggingface-hub>=0.15.1->sentence-transformers) (24.1)\n",
            "Requirement already satisfied: pyyaml>=5.1 in /usr/local/lib/python3.10/dist-packages (from huggingface-hub>=0.15.1->sentence-transformers) (6.0.1)\n",
            "Requirement already satisfied: requests in /usr/local/lib/python3.10/dist-packages (from huggingface-hub>=0.15.1->sentence-transformers) (2.31.0)\n",
            "Requirement already satisfied: typing-extensions>=3.7.4.3 in /usr/local/lib/python3.10/dist-packages (from huggingface-hub>=0.15.1->sentence-transformers) (4.12.2)\n",
            "Requirement already satisfied: sympy in /usr/local/lib/python3.10/dist-packages (from torch>=1.11.0->sentence-transformers) (1.13.0)\n",
            "Requirement already satisfied: networkx in /usr/local/lib/python3.10/dist-packages (from torch>=1.11.0->sentence-transformers) (3.3)\n",
            "Requirement already satisfied: jinja2 in /usr/local/lib/python3.10/dist-packages (from torch>=1.11.0->sentence-transformers) (3.1.4)\n",
            "Requirement already satisfied: nvidia-cuda-nvrtc-cu12==12.1.105 in /usr/local/lib/python3.10/dist-packages (from torch>=1.11.0->sentence-transformers) (12.1.105)\n",
            "Requirement already satisfied: nvidia-cuda-runtime-cu12==12.1.105 in /usr/local/lib/python3.10/dist-packages (from torch>=1.11.0->sentence-transformers) (12.1.105)\n",
            "Requirement already satisfied: nvidia-cuda-cupti-cu12==12.1.105 in /usr/local/lib/python3.10/dist-packages (from torch>=1.11.0->sentence-transformers) (12.1.105)\n",
            "Requirement already satisfied: nvidia-cudnn-cu12==8.9.2.26 in /usr/local/lib/python3.10/dist-packages (from torch>=1.11.0->sentence-transformers) (8.9.2.26)\n",
            "Requirement already satisfied: nvidia-cublas-cu12==12.1.3.1 in /usr/local/lib/python3.10/dist-packages (from torch>=1.11.0->sentence-transformers) (12.1.3.1)\n",
            "Requirement already satisfied: nvidia-cufft-cu12==11.0.2.54 in /usr/local/lib/python3.10/dist-packages (from torch>=1.11.0->sentence-transformers) (11.0.2.54)\n",
            "Requirement already satisfied: nvidia-curand-cu12==10.3.2.106 in /usr/local/lib/python3.10/dist-packages (from torch>=1.11.0->sentence-transformers) (10.3.2.106)\n",
            "Requirement already satisfied: nvidia-cusolver-cu12==11.4.5.107 in /usr/local/lib/python3.10/dist-packages (from torch>=1.11.0->sentence-transformers) (11.4.5.107)\n",
            "Requirement already satisfied: nvidia-cusparse-cu12==12.1.0.106 in /usr/local/lib/python3.10/dist-packages (from torch>=1.11.0->sentence-transformers) (12.1.0.106)\n",
            "Requirement already satisfied: nvidia-nccl-cu12==2.20.5 in /usr/local/lib/python3.10/dist-packages (from torch>=1.11.0->sentence-transformers) (2.20.5)\n",
            "Requirement already satisfied: nvidia-nvtx-cu12==12.1.105 in /usr/local/lib/python3.10/dist-packages (from torch>=1.11.0->sentence-transformers) (12.1.105)\n",
            "Requirement already satisfied: triton==2.3.1 in /usr/local/lib/python3.10/dist-packages (from torch>=1.11.0->sentence-transformers) (2.3.1)\n",
            "Requirement already satisfied: nvidia-nvjitlink-cu12 in /usr/local/lib/python3.10/dist-packages (from nvidia-cusolver-cu12==11.4.5.107->torch>=1.11.0->sentence-transformers) (12.5.82)\n",
            "Requirement already satisfied: regex!=2019.12.17 in /usr/local/lib/python3.10/dist-packages (from transformers<5.0.0,>=4.34.0->sentence-transformers) (2024.5.15)\n",
            "Requirement already satisfied: safetensors>=0.4.1 in /usr/local/lib/python3.10/dist-packages (from transformers<5.0.0,>=4.34.0->sentence-transformers) (0.4.3)\n",
            "Requirement already satisfied: tokenizers<0.20,>=0.19 in /usr/local/lib/python3.10/dist-packages (from transformers<5.0.0,>=4.34.0->sentence-transformers) (0.19.1)\n",
            "Requirement already satisfied: joblib>=1.1.1 in /usr/local/lib/python3.10/dist-packages (from scikit-learn->sentence-transformers) (1.4.2)\n",
            "Requirement already satisfied: threadpoolctl>=2.0.0 in /usr/local/lib/python3.10/dist-packages (from scikit-learn->sentence-transformers) (3.5.0)\n",
            "Requirement already satisfied: MarkupSafe>=2.0 in /usr/local/lib/python3.10/dist-packages (from jinja2->torch>=1.11.0->sentence-transformers) (2.1.5)\n",
            "Requirement already satisfied: charset-normalizer<4,>=2 in /usr/local/lib/python3.10/dist-packages (from requests->huggingface-hub>=0.15.1->sentence-transformers) (3.3.2)\n",
            "Requirement already satisfied: idna<4,>=2.5 in /usr/local/lib/python3.10/dist-packages (from requests->huggingface-hub>=0.15.1->sentence-transformers) (3.7)\n",
            "Requirement already satisfied: urllib3<3,>=1.21.1 in /usr/local/lib/python3.10/dist-packages (from requests->huggingface-hub>=0.15.1->sentence-transformers) (2.0.7)\n",
            "Requirement already satisfied: certifi>=2017.4.17 in /usr/local/lib/python3.10/dist-packages (from requests->huggingface-hub>=0.15.1->sentence-transformers) (2024.7.4)\n",
            "Requirement already satisfied: mpmath<1.4,>=1.1.0 in /usr/local/lib/python3.10/dist-packages (from sympy->torch>=1.11.0->sentence-transformers) (1.3.0)\n"
          ]
        }
      ]
    },
    {
      "cell_type": "code",
      "source": [
        "import json\n",
        "from sentence_transformers import SentenceTransformer, CrossEncoder, util\n",
        "import gzip\n",
        "import os\n",
        "import torch"
      ],
      "metadata": {
        "id": "0r_1keEjaD90"
      },
      "execution_count": 96,
      "outputs": []
    },
    {
      "cell_type": "code",
      "source": [
        "#We use the Bi-Encoder to encode all passages, so that we can use it with semantic search\n",
        "bi_encoder = SentenceTransformer('multi-qa-MiniLM-L6-cos-v1')\n",
        "bi_encoder.max_seq_length = 256     #Truncate long passages to 256 tokens\n",
        "top_k = 32                          #Number of passages we want to retrieve with the bi-encoder"
      ],
      "metadata": {
        "id": "j_Rksel4aG0z"
      },
      "execution_count": 97,
      "outputs": []
    },
    {
      "cell_type": "code",
      "source": [
        "# We encode all passages into our vector space. This takes about 5 minutes (depends on your GPU speed)\n",
        "corpus_embeddings = bi_encoder.encode(songs, convert_to_tensor=True, show_progress_bar=True)"
      ],
      "metadata": {
        "colab": {
          "base_uri": "https://localhost:8080/",
          "height": 49,
          "referenced_widgets": [
            "e77fea77bff647cba9b22cd41518b2a5",
            "00f6f83d8c7c41f782df494723a3a3de",
            "b4587ab68c104631a98f9ab68a183e93",
            "bef9f873dc724ce7ba9a968d9eb32aa7",
            "118ed2f6ee8d445799bdcd9524eb40bb",
            "e51d6dc07aba4d1687e1fefe93499e88",
            "f23d77d6878d47a0938a7ffd81705087",
            "f5ca14ae6c274a1e840333a054fce98c",
            "2ce187f5fbde4b308801d9ff8419e0e8",
            "c048b1080ab14024aa23dff06d000ba6",
            "6950fdcf52a943e9abfc9ac57b0eb0f5"
          ]
        },
        "id": "ajieA9uRaLUA",
        "outputId": "9dded339-9eff-4cf3-d852-faf8d0f0a775"
      },
      "execution_count": 98,
      "outputs": [
        {
          "output_type": "display_data",
          "data": {
            "text/plain": [
              "Batches:   0%|          | 0/8 [00:00<?, ?it/s]"
            ],
            "application/vnd.jupyter.widget-view+json": {
              "version_major": 2,
              "version_minor": 0,
              "model_id": "e77fea77bff647cba9b22cd41518b2a5"
            }
          },
          "metadata": {}
        }
      ]
    },
    {
      "cell_type": "code",
      "source": [
        "import torch\n",
        "def search(query):\n",
        "  print(\"Looking for a song that matches:\", query)\n",
        "\n",
        "  ##### Semantic Search #####\n",
        "  # Encode the query using the bi-encoder and find potentially relevant passages\n",
        "  question_embedding = bi_encoder.encode(query, convert_to_tensor=True)\n",
        "  hits = util.semantic_search(question_embedding, corpus_embeddings, top_k=top_k)\n",
        "  hits = hits[0]  # Get the hits for the first query\n",
        "\n",
        "  # Output of top-5 hits from bi-encoder\n",
        "  print(\"\\n-------------------------\\n\")\n",
        "  print(\"Top-3 Bi-Encoder Retrieval hits\")\n",
        "  hits = sorted(hits, key=lambda x: x['score'], reverse=True)\n",
        "  for hit in hits[0:10]:\n",
        "      print(\"\\t{:.3f}\\t{}\".format(hit['score'], song_titles[hit['corpus_id']]))\n",
        "      print(songs[hit['corpus_id']])\n"
      ],
      "metadata": {
        "id": "ExRjoFHQb-z-"
      },
      "execution_count": 108,
      "outputs": []
    },
    {
      "cell_type": "markdown",
      "source": [
        "THis experiments tests the capabilites of SBERT in semantic search and sentiment analysis. Additionally, we test how SBERT handles song lyrics which have metaphors and symbolism that may pose challenges for search.\n",
        "\n",
        "Since SBERT is meant to be used for question answering, this experiment is testing if songs match the keywords and meaning of the query. This can include if the songs have the meaning of the query or synonyms."
      ],
      "metadata": {
        "id": "xDJDIr2lgZsl"
      }
    },
    {
      "cell_type": "code",
      "source": [
        "search(\"A sad breakup\")"
      ],
      "metadata": {
        "colab": {
          "base_uri": "https://localhost:8080/"
        },
        "id": "sWw13BmYgngR",
        "outputId": "aeff94b7-fdb1-4a8a-af5c-2ccee1eb7bc5"
      },
      "execution_count": 123,
      "outputs": [
        {
          "output_type": "stream",
          "name": "stdout",
          "text": [
            "Looking for a song that matches: A sad breakup\n",
            "\n",
            "-------------------------\n",
            "\n",
            "Top-3 Bi-Encoder Retrieval hits\n",
            "\t0.560\tRed_TaylorsVersion_.StayStayStay_TaylorsVersion_.txt\n",
            "Im pretty sure we almost broke up last night I threw my phone across the room at you I was expecting some dramatic turn away But you stayed This morning, I said we should talk about it Cause I read you should never leave a fight unresolved Thats when you came in wearing a football helmet And said, \"Okay, lets talk\"   And I said, \"Stay, stay, stay\" Ive been loving you for quite some time, time, time You think that its funny when Im mad, mad, mad But I think that its best if we both stay  Before you, Id only dated self-indulgent takers Who took all of their problems out on me But you carry my groceries and now Im always laughing And I love you because you have given me   No choice but to stay, stay, stay Ive been loving you for quite some time, time, time You think that its funny when Im mad, mad, mad But I think that its best if we both stay, stay, stay, stay   You took the time to memorize me My fears, my hopes, and dreams I just like hanging out with you All the time All those times that you didnt leave Its been occurring to me Id like to hang out with you For my whole life   Stay And Ill be loving you for quite some time No one else is gonna love me when I get mad, mad, mad So I think that its best if we both stay, stay, stay, stay, stay, stay Stay, stay, stay Ive been loving you for quite some time, time, time You think that its funny when Im mad, mad, mad But I think that its best if we both stay, stay, stay, stay, stay, stay Stay, stay, stay Ive been loving you for quite some time, time, time You think that its funny when Im mad, mad, mad But I think that its best if we both stay You might also like Thats so fun\n",
            "\t0.459\tRed_TaylorsVersion_.WeAreNeverEverGettingBackTogether_TaylorsVersion_.txt\n",
            "I remember when we broke up The first time, sayin, \"This is it, Ive had enough\" Cause, like, we hadnt seen each other in a month When you said you needed space (What?) Then you come around again and say \"Baby, I miss you and I swear Im gonna change\" \"Trust me,\" remember how that lasted for a day? I say, \"I hate you,\" we break up, you call me, \"I love you\"   Ooh, ooh-ooh-ooh-ooh We called it off again last night, but Ooh, ooh-ooh-ooh-ooh This time, Im telling you, Im telling you  We are never, evеr, ever getting back togеther We are never, ever, ever getting back together You go talk to your friends, talk to my friends, talk to me But we are never, ever, ever, ever getting back together   Like, ever   Im really gonna miss you picking fights And me falling for it, screaming that Im right And you would hide away and find your peace of mind With some indie record thats much cooler than mine   Ooh, ooh-ooh-ooh-ooh You called me up again tonight, but Ooh, ooh-ooh-ooh-ooh This time, Im telling you, Im telling you   We (We) are never, ever, ever getting back together We are never, ever, ever getting back together You go talk to your friends, talk to my friends, talk to me (Talk to me) But we are never, ever, ever, ever getting back together You might also like Ooh, ooh-ooh-ooh-ooh (Yeah) Ooh, ooh-ooh-ooh-ooh-ooh (Yeah) Ooh, ooh-ooh-ooh-ooh (Yeah) Oh   I used to think that we were forever, ever And I used to say, \"Never say never\" Ugh, so he calls me up and hes like, \"I still love you\" And Im, like, Im just, I mean, this is exhausting, you know? Like, we are never getting back together Like, ever (No)   We are never, ever, ever getting back together We are never, ever, ever (Ooh) getting back together You go talk to your friends, talk to my friends, talk to me But we are never, ever, ever, ever getting back together   We (Ooh, ooh-ooh-ooh-ooh) No, getting back together (Ooh, ooh-ooh-ooh-ooh) We (Ooh-ooh-ooh-ooh-ooh) Oh, getting back together, yeah (Ooh, ooh-ooh-ooh-ooh) You go talk to your friends, talk to my friends, talk to me (Talk to me) But we are never, ever, ever, ever getting back together\n",
            "\t0.411\tTaylorSwift.ColdasYou.txt\n",
            "You have a way of coming easily to me And when you take, you take the very best of me So I start a fight cause I need to feel something And you do what you want cause Im not what you wanted   Oh, what a shame, what a rainy ending given to a perfect day Just walk away, aint no use defending words that you will never say And now that Im sitting here thinking it through Ive never been anywhere cold as you  You put up walls and paint them all a shade of gray And I stood there loving you and wished them all away And you come away with a great little story Of a mess of a dreamer with the nerve to adore you   Oh, what a shame, what a rainy ending given to a perfect day So just walk away, aint no use defending words that you will never say And now that Im sitting here thinking it through Ive never been anywhere cold as you   You never did give a damn thing, honey, but I cried, cried for you And I know you wouldnt have told nobody if I died, died for you (Died for you)   Oh, what a shame, what a rainy ending given to a perfect day Every smile you fake is so condescending Counting all the scars you made And now that Im sitting here thinking it through Ive never been anywhere cold as you OohYou might also like\n",
            "\t0.405\tEvermore.tisthedamnseason.txt\n",
            "If I wanted to know who you were hanging with While I was gone, I wouldve asked you Its the kind of cold, fogs up windshield glass But I felt it when I passed you Theres an ache in you, put there by the ache in me But if its all the same to you Its the same to me   So we could call it even You could call me \"babe\" for the weekend ​Tis the damn season, write this down Im stayin at my parents house And the road not taken looks real good now And it always leads to you and my hometown   I parkеd my car right between the Methodist And thе school that used to be ours The holidays linger like bad perfume You can run, but only so far I escaped it too, remember how you watched me leave But if its okay with you, its okay with me   We could call it even You could call me \"babe\" for the weekend ​Tis the damn season, write this down Im stayin at my parents house And the road not taken looks real good now Time flies, messy as the mud on your truck tires Now Im missing your smile, hear me out We could just ride around And the road not taken looks real good now And it always leads to you and my hometown You might also like Sleep in half the day just for old times sake I wont ask you to wait if you dont ask me to stay So Ill go back to L.A. and the so-called friends Wholl write books about me if I ever make it And wonder about the only soul Who can tell which smiles Im fakin And the heart I know Im breakin is my own To leave the warmest bed Ive ever known We could call it even Even though Im leaving And Ill be yours for the weekend ​Tis the damn season   We could call it even You could call me \"babe\" for the weekend ​Tis the damn season, write this down Im stayin at my parents house And the road not taken looks real good now Time flies, messy as the mud on your truck tires Now Im missing your smile, hear me out We could just ride around And the road not taken looks real good now And it always leads to you and my hometown  It always leads to you and my hometown\n",
            "\t0.396\tLover.Afterglow.txt\n",
            "I blew things out of proportion, now youre blue Put you in jail for something you didn’t do I pinned your hands behind your back, oh Thought I had reason to attack, but no   Fighting with a true love is boxing with no gloves Chemistry til it blows up, til there’s no us Whyd I have to break what I love so much? Its on your face, and Im to blame, I need to say  Hey, its all me, in my head Im the one who burned us down But its not what I meant Sorry that I hurt you I dont wanna do, I don’t wanna do this to you (Ooh) I don’t wanna lose, I dont wanna lose this with you (Ooh) I need to say, hey, it’s all me, just dont go Meet me in the afterglow   Its so excruciating to see you low Just wanna lift you up and not let you go This ultraviolet morning light below Tells me this love is worth the fight, oh   I lived like an island, punished you with silence Went off like sirens, just crying Whyd I have to break what I love so much? It’s on your face, dont walk away, I need to say   Hey, its all me, in my head Im the one who burned us down But its not what I meant Im sorry that I hurt you I dont wanna do, I dont wanna do this to you (Ooh) I dont wanna lose, I dont wanna lose this with you (Ooh) I need to say, hey, its all me, just dont go Meet me in the afterglow You might also like Tell me that youre still mine Tell me that well be just fine Even when I lose my mind I need to say Tell me that its not my fault Tell me that Im all you want Even when I break your heart I need to say   Hey, its all me, in my head Im the one who burned us down But its not what I meant Sorry that I hurt you I dont wanna do, I dont wanna do this to you (Ooh) I dont wanna lose, I dont wanna lose this with you (Ooh) I need to say, hey, its all me, just dont go Meet me in the afterglow\n",
            "\t0.394\tFearless_TaylorsVersion_.ByeByeBaby_TaylorsVersion__FromtheVault_.txt\n",
            "It wasnt just like a movie The rain didnt soak through my clothes, down to my skin Im drivin away and I, I guess you could say This is the last time Ill drive this way again Lost in the gray and I try to grab at the fray Cause I, I still love you but I cant   Bye bye to everything I thought was on my side Bye bye, baby I want you bad but its come down to nothing And all I have is your sympathy Cause you took me home but you just couldnt keep me Bye bye, baby Bye bye, baby  The picture frame is empty On the dresser, vacant just like me I see your writing on the dash Then back to your hesitation I was so sure of everything Everything I thought wed always have Guess I never doubted it Then the here and the now floods in Feels like Im becoming a part of your past   Bye bye to everything I thought was on my side Bye bye, baby I want you bad but its come down to nothing And all I have is your sympathy Cause you took me home but you just couldnt keep me Bye bye, baby   And theres so much that I cant touch Youre all I want but its not enough this time And all the pages are just slipping through my hands And Im so scared of how this ends   Bye bye to everything I thought was on my side Bye bye, baby I want you bad but its come down to nothing And all I have is your sympathy Cause you took me home but you just couldnt keep me You might also like Bye bye to everything I thought was on my side Bye bye, baby I want you bad but its come down to nothing And all I have is your sympathy Cause you took me home but you just couldnt keep me Oh, you took me home, I thought you were gonna keep me Bye bye, baby Bye bye, baby\n",
            "\t0.386\tTaylorSwift.APerfectlyGoodHeart.txt\n",
            "Why would you wanna break A perfectly good heart? Why would you wanna take Our love and tear it all apart now? Why would you wanna make The very first scar? Why would you wanna break A perfectly good heart?   Maybe I shouldve seen the signs Shouldve read the writing on the wall And realized by the distance in your eyes That I would be the one to fall  No matter what you say I still cant believe that you would walk away It dont make sense to me, but   Why would you wanna break A perfectly good heart? Why would you wanna take Our love and tear it all apart now? Why would you wanna make The very first scar? Why would you wanna break A perfectly good heart?   Its not unbroken anymore (Its not unbroken anymore) How do I get it back the way it was before?   Why would you wanna break A perfectly good heart? Why would you wanna take Our love and tear it all apart now? Why would you wanna make The very first scar? Why would you wanna break— (Why) Would you wanna break it? You might also like Why would you wanna break A perfectly good heart? Why would you wanna take Our love and tear it all apart now? Why would you wanna make The very first scar? Why would you wanna break A perfectly good heart?   Mmm-hmm\n",
            "\t0.378\t1989_TaylorsVersion_.HowYouGetTheGirl_TaylorsVersion_.txt\n",
            "Oh, oh, oh Oh, oh, oh Oh, oh Oh, oh   Stand there like a ghost, shakin from the rain, rain Shell open up the door and say, \"Are you insane-ane?\" Say, \"Its been a long six months\" And you were too afraid to tell her what you want, want   And thats how it works Thats how you get the girl And then you say   \"I want you for worse or for better I would wait forever and ever Broke your heart, Ill put it back together I would wait forever and ever\" And thats how it works Thats how you get the girl, girl, oh And thats how it works Thats how you get the girl, girl See Taylor Swift LiveGet tickets as low as $60You might also like Remind her how it used to be, be, yeah, yеah Of pictures in frames, of kisses on cheeks, cheeks Tеll her how you must have lost your mind, ooh When you left her all alone and never told her why, why   And thats how it works Thats how you lost the girl And now you say   \"I want you for worse or for better I would wait forever and ever (Ever and ever) Broke your heart, Ill put it back together (Put it back together) I would wait forever and ever (Ever and ever)\" And thats how it works Thats how you get the girl, girl, oh And thats how it works Thats how you get the girl, girl, yeah, yeah   And you know That I dont want you to go   Remind me how it used to be Pictures in frames of kisses on cheeks And say you want me, yeah, yeah, cause And then you say  \"I want you for worse or for better (Worse or for better) I would wait forever and ever (Ever and ever) Broke your heart, Ill put it back together I want you forever and ever (I want you forever and ever)\" And thats how it works Thats how you get the girl, girl (Cause its how it works) And thats how it works Thats how you get the girl, girl (Get the girl, thats how it works) And thats how it works (Oh) Thats how you get the girl, girl (Oh) And thats how it works Thats how you get the girl, girl   And thats how it works Thats how you got the girlEmbed\n",
            "\t0.374\tEvermore.closure.txt\n",
            "Its been a long time And seeing the shape of your name Still spells out pain It wasnt right The way it all went down Looks like you know that now   Yes, I got your letter Yes, Im doing better It cut deep to know ya, right to the bone Yes, I got your letter Yes, Im doing better I know that its over, I dont need your Closure, your closure   Dont treat me like Some situation that needs to be handled Im fine with my spite And my tears, and my beers and my candles I can feel you smoothing me over   Yes, I got your letter Yes, Im doing bettеr It cut deep to know ya, right to the bone Yes, I got your lеtter Yes, Im doing better I know that its over, I dont need your Closure, your closure Your closure, your closure You might also like I know Im just a wrinkle in your new life Staying friends would iron it out so nice Guilty, guilty, reaching out across the sea That you put between you and me But its fake and its oh so unnecessary   Yes, I got your letter Yes, Im doing better It cut deep to know ya, right to the bone Yes, I got your letter Yes, Im doing better I know that its over, I dont need your Closure, closure, your closure Your closure\n",
            "\t0.372\tRed_TaylorsVersion_.TheVeryFirstNight_TaylorsVersion__FromtheVault_.txt\n",
            "I wish I could fly Id pick you up and wed go back in time Id write this in the sky I miss you like it was the very first night   And so it goes Every weekend, this same party I never go alone And I dont seem broken-hearted My friends all say they know Everything Im going through I drive down different roads But they all lead back to you  Cause they dont know about the night in the hotel They werent ridin in the car when we both fell Didnt read the note on the Polaroid picture They dont know how much I miss you   I wish I could fly Id pick you up and wed go back in time Id write this in the sky I miss you like it was the very first night   And so it was We never saw it coming Not trying to fall in love But we did like children running Back then, we didnt know We were built to fall apart We broke the status quo Then we broke each others hearts   But dont forget about the night out in L.A Dance in the kitchen, chase me down through the hallway No one knows about the words that we whispered No one knows how much I miss you You might also like I wish I could fly Id pick you up and wed go back in time Id write this in the sky I miss you like it was the very first night   Take me away Take me away Take me away To you, to you Take me away Take me away Take me away To you, to you   I remember the night at the hotel I was ridin in the car when we both fell Im the one on the phone as you whisper \"Do you know how much I miss you?\"   I wish that we could go back in time And Id say to you \"I miss you like it was the very first night\"  I wish I could fly Id pick you up and wed go back in time Id write this in the sky I miss you like it was the very first night   Take me away Take me away Take me away To you, to you Take me away Take me away Take me away To you, to you\n"
          ]
        }
      ]
    },
    {
      "cell_type": "code",
      "source": [
        "search(\"snow and winter\")"
      ],
      "metadata": {
        "colab": {
          "base_uri": "https://localhost:8080/"
        },
        "id": "E7dtCnPZhn8b",
        "outputId": "117f0e43-fe21-474c-8a5d-55feb6bece9b"
      },
      "execution_count": 112,
      "outputs": [
        {
          "output_type": "stream",
          "name": "stdout",
          "text": [
            "Looking for a song that matches: snow and winter\n",
            "\n",
            "-------------------------\n",
            "\n",
            "Top-3 Bi-Encoder Retrieval hits\n",
            "\t0.298\tFearless_TaylorsVersion_.TheBestDay_TaylorsVersion_.txt\n",
            "Im five years old, its getting cold, Ive got my big coat on I hear your laugh and look up smiling at you, I run and run Past the pumpkin patch and the tractor rides Look now, the sky is gold I hug your legs and fall asleep on the way home   I dont know why all the trees change in the fall But I know youre not scared of anything at all Dont know if Snow Whites house is near or far away But I know I had the best day with you today  Im thirteen now and dont know how my friends could be so mean I come home crying and you hold me tight and grab the keys And we drive and drive until we found a town far enough away And we talk and window shop til Ive forgotten all their names   I dont know who Im gonna talk to now at school But I know Im laughing on the car ride home with you Dont know how long its gonna take to feel okay But I know I had the best day with you today   I have an excellent father His strength is making me stronger God smiles on my little brother Inside and out, hes better than I am I grew up in a pretty house and I had space to run and I Had the best days with you   There is a video I found from back when I was three You set up a paint set in the kitchen and youre talking to me Its the age of princesses and pirate ships and the seven dwarves Daddys smart and youre the prettiest lady in the whole wide world You might also like Now I know why all the trees change in the fall I know you were on my side even when I was wrong And I love you for giving me your eyes For staying back and watching me shine And I didnt know if you knew So Im taking this chance to say That I had the best day with you today\n",
            "\t0.256\tEvermore.evermore.txt\n",
            "Gray November Ive been down since July Motion capture Put me in a bad light I replay my footsteps on each stepping stone Trying to find the one where I went wrong Writing letters Addressed to the fire   And I was catching my breath Staring out an open window Catching my death And I couldnt be sure I had a feeling so peculiar That this pain would be for Evermore   Hey December Guess Im feeling unmoored Cant remember What I used to fight for I rewind thе tape, but all it does is pause On thе very moment all was lost Sending signals To be double-crossed You might also like And I was catching my breath Barefoot in the wildest winter Catching my death And I couldnt be sure I had a feeling so peculiar That this pain would be for Evermore (Evermore)  Cant not think of all the cost And the things that will be lost Oh, can we just get a pause? To be certain, well be tall again Whether weather be the frost Or the violence of the dog days Im on waves, out being tossed Is there a line that I could just go cross? And when I was shipwrecked (Cant think of all the cost now) I thought of you (All the things that will be lost now) In the cracks of light (Can we just get a pause?) I dreamed of you (To be certain well be tall again) (If you think of all the costs) It was real enough (Whether weather be the frost) To get me through (Or the violence of the dog days) (Or the violence of the dog days) (Out on waves, being tossed) (Im on waves, out being tossed) But I swear (Is there a line that we can just go cross?) You were there  And I was catching my breath Floors of a cabin creaking under my step And I couldnt be sure I had a feeling so peculiar This pain wouldnt be for Evermore Evermore Evermore This pain wouldnt be for evermore Evermore\n",
            "\t0.225\tRed_TaylorsVersion_.AllTooWell_10MinuteVersion__TaylorsVersion__FromtheVault_.txt\n",
            "I walked through the door with you, the air was cold But somethin bout it felt like home somehow And I left my scarf there at your sisters house And youve still got it in your drawer, even now   Oh, your sweet disposition and my wide-eyed gaze Were singin in the car, getting lost upstate Autumn leaves fallin down like pieces into place And I can picture it after all these days  And I know its long gone and That magics not here no more And I might be okay, but Im not fine at all Oh, oh, oh   Causе there we arе again on that little town street You almost ran the red cause you were lookin over at me Wind in my hair, I was there I remember it all too well   Photo album on the counter, your cheeks were turnin red You used to be a little kid with glasses in a twin-sized bed And your mothers tellin stories bout you on the tee-ball team You taught me bout your past, thinkin your future was me And you were tossing me the car keys, \"Fuck the patriarchy\" Keychain on the ground, we were always skippin town And I was thinkin on the drive down, \"Any time now Hes gonna say its love,\" you never called it what it was Til we were dead and gone and buried Check the pulse and come back swearin its the same After three months in the grave And then you wondered where it went to as I reached for you But all I felt was shame and you held my lifeless frame You might also like And I know its long gone and There was nothing else I could do And I forget about you long enough To forget why I needed to   Cause there we are again in the middle of the night Were dancin round the kitchen in the refrigerator light Down the stairs, I was there I remember it all too well And there we are again when nobody had to know You kept me like a secret, but I kept you like an oath Sacred prayer and wed swear To remember it all too well, yeah   Well, maybe we got lost in translation, maybe I asked for too much But maybe this thing was a masterpiece til you tore it all up Runnin scared, I was there I remember it all too well And you call me up again just to break me like a promise So casually cruel in the name of bein honest Im a crumpled-up piece of paper lyin here Cause I remember it all, all, all  They say alls well that ends well, but Im in a new hell Every time you double-cross my mind You said if we had been closer in age, maybe it wouldve been fine And that made me want to die The idea you had of me, who was she? A never-needy, ever-lovely jewel whose shine reflects on you Not weepin in a party bathroom Some actress askin me what happened, you Thats what happened, you You who charmed my dad with self-effacing jokes Sippin coffee like youre on a late-night show But then he watched me watch the front door all night, willin you to come And he said, \"Its supposed to be fun turning twenty-one\"   Time wont fly, its like Im paralyzed by it Id like to be my old self again, but Im still tryin to find it After plaid shirt days and nights when you made me your own Now you mail back my things and I walk home alone But you keep my old scarf from that very first week Cause it reminds you of innocence and it smells like me You cant get rid of it Cause you remember it all too well, yeah   Cause there we are again when I loved you so Back before you lost the one real thing youve ever known It was rare, I was there I remember it all too well Wind in my hair, you were there You remember it all Down the stairs, you were there You remember it all It was rare, I was there I remember it all too well   And I was never good at tellin jokes, but the punch line goes \"Ill get older, but your lovers stay my age\" From when your Brooklyn broke my skin and bones Im a soldier whos returning half her weight And did the twin flame bruise paint you blue? Just between us, did the love affair maim you too? Cause in this citys barren cold I still remember the first fall of snow And how it glistened as it fell I remember it all too well   Just between us, did the love affair maim you all too well? Just between us, do you remember it all too well? Just between us, I remember it (Just between us) all too well Wind in my hair, I was there, I was there (I was there) Down the stairs, I was there, I was there Sacred prayer, I was there, I was there It was rare, you remember it all too well Wind in my hair, I was there, I was there (Oh) Down the stairs, I was there, I was there (I was there) Sacred prayer, I was there, I was there It was rare, you remember it (All too well) Wind in my hair, I was there, I was there Down the stairs, I was there, I was there Sacred prayer, I was there, I was there It was rare, you remember it Wind in my hair, I was there, I was there Down the stairs, I was there, I was there Sacred prayer, I was there, I was there It was rare, you remember it\n",
            "\t0.223\t1989_TaylorsVersion_.Clean_TaylorsVersion_.txt\n",
            "The drought was the very worst, ah-ah, ah-ah When the flowers that wed grown together died of thirst It was months and months of back and forth, ah-ah, ah-ah Youre still all over me like a wine-stained dress I cant wear anymore   Hung my head as I lost the war And the sky turned black like a perfect storm   The rain came pouring down When I was drownin, thats when I could finally breathe And by mornin, gone was any trace of you I think I am finally clean   There was nothin left to do, ah-ah, ah-ah When the butterflies turnеd to dust that covered my whole room So I punchеd a hole in the roof, ah-ah, ah-ah Let the flood carry away all my pictures of you   The water filled my lungs I screamed so loud, but no one heard a thing See Taylor Swift LiveGet tickets as low as $60You might also like The rain came pourin down When I was drownin, thats when I could finally breathe And by mornin, gone was any trace of you I think I am finally clean   I think I am finally clean Ah-ah-ah-ah-ah Said I think I am finally clean Ah-ah-ah   Ten months sober, I must admit Just because youre clean, dont mean you dont miss it Ten months older, I wont give in Now that Im clean, Im never gonna risk it   The drought was the very worst, ah-ah, ah-ah When the flowers that wed grown together died of thirst   The rain came pourin down When I was drownin, thats when I could finally breathe And by mornin, gone was any trace of you I think I am finally clean The rain came pourin down When I was drownin, thats when I could finally breathe And by mornin, gone was any trace of you I think I am finally clean  Finally clean Think Im finally clean Ah-ah-ah-ah Think Im finally clean\n",
            "\t0.221\tLover.Lover.txt\n",
            "We could leave the Christmas lights up til January And this is our place, we make the rules And theres a dazzling haze, a mysterious way about you, dear Have I known you twenty seconds or twenty years?  Can I go where you go? Can we always be this close? Forever and ever, ah Take me out and take me home Youre my, my, my, my lover  We could let our friends crash in the living room This is our place, we make the call And Im highly suspicious that everyone who sees you wants you Ive loved you three summers now, honey, but I want em all  Can I go where you go? Can we always be this close? Forever and ever, ah Take me out and take me home (Forever and ever) Youre my, my, my, my lover   Ladies and gentlemen, will you please stand? With every guitar string scar on my hand I take this magnetic force of a man to be my lover My hearts been borrowed and yours has been blue Alls well that ends well to end up with you Swear to be overdramatic and true to my lover And youll save all your dirtiest jokes for me And at every table, Ill save you a seat, lover  Can I go where you go? Can we always be this close? Forever and ever, ah Take me out and take me home (Forever and ever) Youre my, my, my, my Oh, youre my, my, my, my Darling, youre my, my, my, my loverYou might also like\n",
            "\t0.219\tFearless_TaylorsVersion_.YouAllOverMe_TaylorsVersion__FromtheVault_.txt\n",
            "Once the last drop of rain has dried off the pavement Shouldnt I find a stain? But I never do The way the tires turn stones on old county roads They leave em muddy underneath, reminds me of you You find graffiti on the walls of old bathroom stalls, you know You can scratch it right off, its how it used to be But like the dollar in your pocket, its been spent and traded in You cant change where its been, reminds me of me   I lived and I learned Had you, got burned Held out and held on God knows, too long, and wasted time Lost tears, swore that Id get out of here But no amount of freedom gets you clean Ive still got you all over me  The best and worst day of June Was the one that I met you With your hands in your pockets And your \"Dont you wish you had me?\" grin Well I did, so I smiled, and I melted like a child Now, every breath of air I breathe reminds me of then   And I lived and I learned Had you, got burned Held out and held on God knows, too long, and wasted time Lost tears, swore that Id get out of here But no amount of freedom gets you clean Ive still got you all over me     I lived and I learned And found out what it was to turn around And see that we Were never really meant to be So I lied, and I cried And I watched a part of myself die Cause no amount of freedom gets you clean Ive still got you all over me You might also like Ive still got you all over me Still got you all over me\n",
            "\t0.208\tRed_TaylorsVersion_.AllTooWell_TaylorsVersion_.txt\n",
            "I walked through the door with you, the air was cold But something bout it felt like home somehow And I left my scarf there at your sisters house And youve still got it in your drawer, even now   Oh, your sweet disposition and my wide-eyed gaze Were singing in the car, getting lost upstate Autumn leaves falling down like pieces into place And I can picture it after all these days  And I know its long gone and That magics not here no more And I might be okay, but Im not fine at all Oh, oh, oh   Causе there we arе again on that little town street You almost ran the red cause you were lookin over at me Wind in my hair, I was there I remember it all too well   Photo album on the counter, your cheeks were turning red You used to be a little kid with glasses in a twin-sized bed And your mothers telling stories bout you on the tee-ball team You taught me bout your past, thinking your future was me   And I know its long gone and There was nothing else I could do And I forget about you long enough To forget why I needed to  Cause there we are again in the middle of the night Were dancing round the kitchen in the refrigerator light Down the stairs, I was there I remember it all too well, yeah You might also like And maybe we got lost in translation Maybe I asked for too much But maybe this thing was a masterpiece Til you tore it all up Running scared, I was there I remember it all too well And you call me up again Just to break me like a promise So casually cruel in the name of being honest Im a crumpled up piece of paper lying here Cause I remember it all, all, all Too well   Time wont fly, its like Im paralyzed by it Id like to be my old self again, but Im still trying to find it After plaid shirt days and nights when you made me your own Now you mail back my things and I walk home alone But you keep my old scarf from that very first week Cause it reminds you of innocence and it smells like me You cant get rid of it Cause you remember it all too well, yeah   Cause there we are again when I loved you so Back before you lost the one real thing youve ever known It was rare, I was there I remember it all too well  Wind in my hair, you were there You remember it all Down the stairs, you were there You remember it all It was rare, I was there I remember it all too well\n",
            "\t0.201\tEvermore.tisthedamnseason.txt\n",
            "If I wanted to know who you were hanging with While I was gone, I wouldve asked you Its the kind of cold, fogs up windshield glass But I felt it when I passed you Theres an ache in you, put there by the ache in me But if its all the same to you Its the same to me   So we could call it even You could call me \"babe\" for the weekend ​Tis the damn season, write this down Im stayin at my parents house And the road not taken looks real good now And it always leads to you and my hometown   I parkеd my car right between the Methodist And thе school that used to be ours The holidays linger like bad perfume You can run, but only so far I escaped it too, remember how you watched me leave But if its okay with you, its okay with me   We could call it even You could call me \"babe\" for the weekend ​Tis the damn season, write this down Im stayin at my parents house And the road not taken looks real good now Time flies, messy as the mud on your truck tires Now Im missing your smile, hear me out We could just ride around And the road not taken looks real good now And it always leads to you and my hometown You might also like Sleep in half the day just for old times sake I wont ask you to wait if you dont ask me to stay So Ill go back to L.A. and the so-called friends Wholl write books about me if I ever make it And wonder about the only soul Who can tell which smiles Im fakin And the heart I know Im breakin is my own To leave the warmest bed Ive ever known We could call it even Even though Im leaving And Ill be yours for the weekend ​Tis the damn season   We could call it even You could call me \"babe\" for the weekend ​Tis the damn season, write this down Im stayin at my parents house And the road not taken looks real good now Time flies, messy as the mud on your truck tires Now Im missing your smile, hear me out We could just ride around And the road not taken looks real good now And it always leads to you and my hometown  It always leads to you and my hometown\n",
            "\t0.176\tEvermore.willow.txt\n",
            "Im like the water when your ship rolled in that night Rough on the surface, but you cut through like a knife And if it was an open-shut case I never wouldve known from that look on your face Lost in your current like a priceless wine   The more that you say, the less I know Wherever you stray, I follow Im begging for you to take my hand Wreck my plans, thats my man   Life was a willow and it bent right to your wind Head on the pillow, I could feel you sneakin in As if you were a mythical thing Like you were a trophy or a champion ring And there was one prize Id cheat to win   The more that you say, the less I know Wherever you stray, I follow Im begging for you to take my hand Wreck my plans, thats my man You know that my train could take you home Anywhere else is hollow Im begging for you to take my hand Wreck my plans, thats my man You might also like Life was a willow and it bent right to your wind They count me out time and time again Life was a willow and it bent right to your wind But I come back stronger than a 90s trend   Wait for the signal, and Ill meet you after dark Show me the places where the others gave you scars Now this is an open-shut case I guess I shouldve known from the look on your face Every bait-and-switch was a work of art   The more that you say, the less I know Wherever you stray, I follow Im begging for you to take my hand Wreck my plans, thats my man You know that my train could take you home Anywhere else is hollow Im begging for you to take my hand Wreck my plans, thats my man The more that you say, the less I know Wherever you stray, I follow Im begging for you to take my hand Wreck my plans, thats my man You know that my train could take you home Anywhere else is hollow Im begging for you to take my hand Wreck my plans, thats my man  Hey, thats my man Thats my man Yeah, thats my man Every bait-and-switch was a work of art Thats my man Hey, thats my man Im begging for you to take my hand Wreck my plans, thats my man\n",
            "\t0.175\tEvermore.ivy.txt\n",
            "Hows one to know? Id meet you where the spirit meets the bones In a faith-forgotten land In from the snow Your touch brought forth an incandescent glow Tarnished but so grand   And the old widow goes to the stone every day But I dont, I just sit here and wait Grieving for the living   Oh, goddamn My pain fits in the palm of your freezing hand Taking mine, but its been promised to another Oh, I cant Stop you putting roots in my dreamland My house of stone, your ivy grows And now Im covered in you   I wish to know The fatal flaw that makes you long to be Magnificently cursed Hes in the room Your opal eyes are all I wish to see He wants whats only yours You might also like Oh, goddamn My pain fits in the palm of your freezing hand Taking mine, but its been promised to another Oh, I cant Stop you putting roots in my dreamland My house of stone, your ivy grows And now Im covered   Clover blooms in the fields Spring breaks loose, the time is near What would he do if he found us out? Crescent moon, coast is clear Spring breaks loose, but so does fear Hes gonna burn this house to the ground Hows one to know? Id live and die for moments that we stole On begged and borrowed time So tell me to run Or dare to sit and watch what well become And drink my husbands wine   Oh, goddamn My pain fits in the palm of your freezing hand Taking mine, but its been promised to another Oh, I cant Stop you putting roots in my dreamland My house of stone, your ivy grows And now Im covered in you And Im covered in you  So yeah, its a fire Its a goddamn blaze in the dark And you started it You started it So yeah, its a war Its the goddamn fight of my life And you started it You started it   Oh, I cant Stop you putting roots in my dreamland My house of stone, your ivy grows And now Im covered In you, in you Now Im covered in you In you\n"
          ]
        }
      ]
    },
    {
      "cell_type": "code",
      "source": [
        "search(\"dreaming and fantasy\")"
      ],
      "metadata": {
        "colab": {
          "base_uri": "https://localhost:8080/"
        },
        "id": "wc_pFtnwiNGE",
        "outputId": "99d239cc-93ca-45b3-a487-f44f95dbd3b2"
      },
      "execution_count": 122,
      "outputs": [
        {
          "output_type": "stream",
          "name": "stdout",
          "text": [
            "Looking for a song that matches: dreaming and fantasy\n",
            "\n",
            "-------------------------\n",
            "\n",
            "Top-3 Bi-Encoder Retrieval hits\n",
            "\t0.613\tFolklore.epiphany.txt\n",
            "Keep your helmet, keep your life, son Just a flesh wound, heres your rifle Crawling up the beaches now \"Sir, I think hes bleeding out\" And some things you just cant speak about   With you I serve, with you I fall down, down Watch you breathe in, watch you breathing out, out   Something med school did not cover Someones daughter, someones mother Holds your hand through plastic now \"Doc, I think shes crashing out\" And some things you just cant speak about   Only twenty minutes to sleep But you dream of some epiphany Just one single glimpse of relief To make some sense of what youve seen   With you I serve, with you I fall down, down (Down) Watch you breathe in, watch you breathing out, out With you I serve (With you I serve), with you I fall down (Down), down (Down) Watch you breathe in (Watch you breathe in), watch you breathing out (Out), out (Out) You might also like Only twenty minutes to sleep But you dream of some epiphany Just one single glimpse of relief To make some sense of what youve seen\n",
            "\t0.471\tTaylorSwift.PicturetoBurn.txt\n",
            "State the obvious, I didnt get my perfect fantasy I realize you love yourself more than you could ever love me So, go and tell your friends that Im obsessive and crazy Thats fine, you wont mind if I say By the way   I hate that stupid old pickup truck you never let me drive Youre a redneck heartbreak whos really bad at lyin So, watch me strike a match on all my wasted time As far as Im concerned, youre just another picture to burn  Theres no time for tears, Im just sittin here planning my revenge Theres nothing stoppin me from goin out with all of your best friends And if you come around sayin sorry to me My daddys gonna show ya how sorry youll be   Cause I hate that stupid old pickup truck you never let me drive Youre a redneck heartbreak whos really bad at lyin So, watch me strike a match on all my wasted time As far as Im concerned, youre just another picture to burn   And if youre missing me, youd better keep it to yourself Cause coming back around here would be bad for your health   Cause I hate that stupid old pickup truck you never let me drive Youre a redneck heartbreak whos really bad at lyin So, watch me strike a match on all my wasted time In case you havent heard I really, really hate that stupid old pickup truck you never let me drive Youre a redneck heartbreak whos really bad at lyin So, watch me strike a match on all my wasted time As far as Im concerned, youre just another picture to burn You might also like Burn, burn, burn, baby, burn Youre just another picture to burn Baby, burn\n",
            "\t0.471\tMidnights_TheTillDawnEdition_.SnowOnTheBeach.txt\n",
            "One night, a few moons ago I saw flecks of what couldve been lights But it might just have been you Passing by unbeknownst to me Life is emotionally abusive And time cant stop me quite like you did And my flight was awful, thanks for asking Im unglued, thanks to you   And its like snow at the beach Weird, but fuckin beautiful Flying in a dream Stars by the pocketful You wanting me Tonight feels impossible But its comin down No sound, its all around   Like snow on the beach Like snow on the beach Like snow on the beach Like snow, ah You might also like This scene feels like what I once saw on a screen I searched \"aurora borealis green\" Ive never seen someone lit from within Blurring out my periphery My smile is like I won a contest And to hide that would be so dishonest And its fine to fake it til you make it Til you do, til its true   Now its like snow at the beach Weird, but fuckin beautiful Flying in a dream Stars by the pocketful You wanting me Tonight feels impossible But its comin down No sound, its all around   Like snow on the beach Like snow on the beach Like snow on the beach Like snow, ah  I (I) cant (Cant) speak, afraid to jinx it I (I) dont (Dont) even dare to wish it But your eyes are flying saucers from another planet Now Im all for you like Janet Can this be a real thing? Can it?   Are we falling like snow at the beach? (Snow at the beach) Weird, but fuckin beautiful Flying in a dream (Flying in a dream) Stars by the pocketful You wanting me (You wanting me) Tonight feels impossible But its comin down No sound, its all around   Like snow on the beach (Snow on the beach) Like snow on the beach (Flying in a dream) Like snow on the beach (You wanting me) Like snow, ah But its comin down No sound, its all around   Like snow on the beach (Its comin down, its comin down) (Its comin down, its comin down) Like snow on the beach (Its comin down, its comin down) (Its comin down, its comin down) (Its comin down, its comin down) (Its comin down, its comin down) (Its comin down, its comin down) (Its comin down, its comin down)\n",
            "\t0.470\tMidnights_TheTillDawnEdition_.SnowOnTheBeach_feat_MoreLanaDelRey_.txt\n",
            "One night, a few moons ago I saw flecks of what couldve been lights But it might just have been you Passing by unbeknownst to me Life is emotionally abusive And time cant stop me quite like you did And my flight was awful, thanks for asking Im unglued, thanks to you   And its like snow at the beach Weird, but fuckin beautiful Flying in a dream Stars by the pocketful You wanting me Tonight feels impossible But its comin down No sound, its all around   Like snow on the beach Like snow on the beach Like snow on the beach Like snow, ah, ah You might also like This scene feels like what I once saw on a screen I searched \"aurora borealis green\" Ive never seen someone lit from within Blurring out my periphery My smile is like I won a contest And to hide that would be so dishonest And its fine to fake it til you make it Til you do, til its true   Now, its like snow at the beach Weird, but fuckin beautiful Flying in a dream Stars by the pocketful You wanting me Tonight feels impossible But its comin down No sound, its all around   Like snow on the beach (Mmm) Like snow on the beach Like snow on the beach (Mmm) Like snow, ah, ah  I (I) cant (Cant) speak, afraid to jinx it I (I) dont (Dont) even dare to wish it But your eyes are flying saucers from another planet Now, Im all for you like Janet Can this be a real thing? Can it?   Are we falling like snow at the beach? (Snow at the beach) Weird, but fuckin beautiful Flying in a dream (Flying in a dream) Stars by the pocketful You wanting me (You wanting me) Tonight feels impossible But its comin down No sound, its all around   Like snow on the beach (Snow on the beach; Mmm) Like snow on the beach (Flying in a dream) Like snow on the beach (You wanting me; Mmm) Like snow, ah But its comin down No sound, its all around   Like snow on the beach Like snow, like snow, uh-huh, yeah\n",
            "\t0.430\tTHETORTUREDPOETSDEPARTMENT_THEANTHOLOGY.GuiltyasSin_.txt\n",
            "Drownin in the Blue Nile He sent me \"Downtown Lights\" I hadnt heard it in a while My boredoms bone-deep This cage was once just fine Am I allowed to cry? I dream of crackin locks Throwin my life to the wolves or the ocean rocks Crashin into him tonight, hes a paradox Im seeing visions Am I bad or mad or wise?   What if hes written \"mine\" on my upper thigh only in my mind? One slip and fallin back into the hedge maze Oh, what a way to die I keep recalling things we never did Messy top-lip kiss, how I long for our trysts Without ever touchin his skin How can I be guilty as sin?   I keep these longings lockеd In lowercase, inside a vault Somеone told me, \"Theres no such thing as bad thoughts Only your actions talk\" These fatal fantasies Giving way to labored breath, takin all of me Weve already done it in my head If its make-believe Why does it feel like a vow well both uphold somehow? See Taylor Swift LiveGet tickets as low as $60You might also like What if hes written \"mine\" on my upper thigh only in my mind? One slip and fallin back into the hedge maze Oh, what a way to die My bed sheets are ablaze Ive screamed his name Buildin up like waves crashin over my grave Without ever touchin his skin How can I be guilty as sin?   What if I roll the stone away? Theyre gonna crucify me anyway What if the way you hold me is actually whats holy? If long-suffering propriety is what they want from me They dont know how youve haunted me so stunningly I choose you and me religiously   What if hes written \"mine\" on my upper thigh only in my mind? One slip and fallin back into the hedge maze Oh, what a way to die I keep recalling things we never did Messy top-lip kiss, how I long for our trysts Without ever touchin his skin How can I be guilty as sin?  He sent me \"Downtown Lights\" I hadnt heard it in a while Am I allowed to cry?\n",
            "\t0.417\tTHETORTUREDPOETSDEPARTMENT_THEANTHOLOGY.thanKyouaIMee.txt\n",
            "When I picture my hometown Theres a bronze, spray-tanned statue of you And a plaque underneath it That threatens to push me down the stairs at our school   And it was always the same searing pain But I dreamed that one day I could say   All that time you were throwin punches, I was buildin somethin And I cant forgive the way you made me feel Screamed, \"Fuck you, Aimee\" to the night sky as the blood was gushin But I cant forget the way you made me heal   And it wasnt a fair fight Or a clean kill each time that Aimee stompеd across my grave And then she wrotе headlines In the local paper, laughing at each baby step Id take   And it was always the same searing pain But I prayed that one day I could say See Taylor Swift LiveGet tickets as low as $60You might also like All that time you were throwin punches, I was buildin somethin And I couldnt wait to show you it was real Screamed, \"Fuck you, Aimee\" to the night sky as the blood was gushin But I cant forget the way you made me heal Everyone knows that my mother is a saintly woman But she used to say she wished that you were dead I pushed each boulder up the hill Your words are still just ringin in my head, ringin in my head   I wrote a thousand songs that you find uncool I built a legacy that you cant undo But when I count the scars, theres a moment of truth That there wouldnt be this if there hadnt been you   And maybe youve reframed it And in your mind, you never beat my spirit black and blue I dont think youve changed much And so I changed your name and any real defining clues And one day, your kid comes home singin A song that only us two is gonna know is about you, cause   All that time you were throwin punches, it was all for nothin And our town, it looks so small from way up here Screamed, \"Thank you, Aimee\" to the night sky and the stars are stunnin Cause I cant forget the way you made me heal Everyone knows that my mother is a saintly woman But she used to say she wished that you were dead So I pushed each boulder up that hill Your words were still just ringin in my head, ringin in my head  Thank you, Aimee Thank you, Aimee\n",
            "\t0.416\t1989_TaylorsVersion_.IsItOverNow__TaylorsVersion__FromTheVault_.txt\n",
            "(Is it? Is it? Is it? Is it? Is it?)   Once the flight had flown (Uh-huh) With the wilt of the rose (Uh-huh) I slept all alone (Uh-huh) You still wouldnt go   Lets fast forward to three hundred takeout coffees later I see your profile and your smile on unsuspecting waiters You dream of my mouth before it called you a lying traitor You search in every maidens bed for somethin greater, baby   Was it over when she laid down on your couch? Was it over when he unbuttoned my blouse? \"Come here,\" I whispered in your ear In your dream as you passеd out, baby Was it over then? And is it over now?   (Is it? Is it? Is it?)   Whеn you lost control (Uh-huh) Red blood, white snow (Uh-huh) Blue dress on a boat (Uh-huh) Your new girl is my clone See Taylor Swift LiveGet tickets as low as $60You might also like And did you think I didnt see you? There were flashin lights At least I had the decency To keep my nights out of sight Only rumors bout my hips and thighs And my whispered sighs Oh, Lord, I think about jumpin Off of very tall somethings Just to see you come runnin And say the one thing Ive been wanting, but no   Lets fast forward to three hundred awkward blind dates later (Oh) If shes got blue eyes, I will surmise that youll probably date her (Oh, no) You dream of my mouth before it called you a lying traitor (Oh) You search in every models bed for somethin greater, baby   Was it over when she laid down on your couch? Was it over when he unbuttoned my blouse? \"Come here,\" I whispered in your ear In your dream as you passed out, baby Was it over then? And is it over now?  Uh-huh (Is it? Is it? Is it?) Uh-huh (Is it? Is it?)  Think I didnt see you? There were flashin lights At least I had the decency To keep my nights out of sight Only rumors bout my hips and thighs And my whispered sighs Oh, Lord, I think about jumpin Off of very tall somethings Just to see you come runnin (Runnin) And say the one thing Ive been wanting, but no   (Flashin lights; Oh, Lord; Oh) Lets fast forward to three hundred takeout coffees later (Oh) (Flashin lights) I was hoping youd be there And say the one thing (Oh, Lord) Ive been wanting (Oh, Lord) But no (Was it? Was it? Was it? Was it? Was it? Was it?)\n",
            "\t0.413\tRed_TaylorsVersion_.IBetYouThinkAboutMe_TaylorsVersion__FromtheVault_.txt\n",
            "3 AM and Im still awake, Ill bet youre just fine Fast asleep in your city thats better than mine And the girl in your bed has a fine pedigree And Ill bet your friends tell you shes better than me, huh   Well, I tried to fit in with your upper-crust circles Yeah, they let me sit in back when we were in love Oh, they sit around talkin about the meaning of life And the book that just saved em that I hadnt heard of  But now that were done and its over I bet you couldnt believe When you realized Im harder to forget than I was to leave And I bet you think about me   You grew up in a silver-spoon gated community Glamorous, shiny, bright Beverly Hills I was raised on a farm, no, it wasnt a mansion Just livin room dancin and kitchen table bills   But you know what they say, you cant help who you fall for And you and I fell like an early spring snow But reality crept in, you said were too different You laughed at my dreams, rolled your eyes at my jokes   Mr. Superior Thinkin Do you have all the space that you need? I dont have to be your shrink to know that youll never be happy And I bet you think about me   I bet you think about me, yes I bet you think about me You might also like Oh, block it all out The voices so loud, sayin \"Why did you let her go?\" Does it make you feel sad That the love that youre lookin for Is the love that you had?   Now youre out in the world, searchin for your soul Scared not to be hip, scared to get old Chasing make-believe status, last time you felt free Was when none of that shit mattered cause you were with me   But now that were done and its over I bet its hard to believe But it turned out Im harder to forget than I was to leave And, yeah, I bet you think about me   I bet you think about me, yes I bet you think about me   I bet you think about me when youre out At your cool indie music concerts every week I bet you think about me in your house With your organic shoes and your million-dollar couch I bet you think about me when you say \"Oh my god, shes insane, she wrote a song about me\" I bet you think about me\n",
            "\t0.412\tFolklore.the1.txt\n",
            "Im doing good, Im on some new shit Been saying \"yes\" instead of \"no\" I thought I saw you at the bus stop, I didnt though I hit the ground running each night I hit the Sunday matinée You know the greatest films of all time were never made   I guess you never know, never know And if you wanted me, you really shouldve showed And if you never bleed, youre never gonna grow And its alright now   But we were something, dont you think so? Roaring twenties, tossing pennies in the pool And if my wishes came true It wouldve been you In my defense, I have none For never leaving well enough alone But it wouldve been fun If you wouldve been the one (Ooh)   I have this dream youre doing cool shit Having adventures on your own You meet some woman on the internet and take her home We never painted by the numbers, baby But we were making it count You know the greatest loves of all time are over now You might also like I guess you never know, never know And its another day waking up alone   But we were something, dont you think so? Roaring twenties, tossing pennies in the pool And if my wishes came true It wouldve been you In my defense, I have none For never leaving well enough alone But it wouldve been fun If you wouldve been the one   I, I, I persist and resist the temptation to ask you If one thing had been different Would everything be different today?   We were something, dont you think so? Rosé flowing with your chosen family And it wouldve been sweet If it couldve been me In my defense, I have none For digging up the grave another time But it wouldve been fun If you wouldve been the one (Ooh)\n",
            "\t0.403\tRed_TaylorsVersion_.TheLuckyOne_TaylorsVersion_.txt\n",
            "New to town with a made-up name In the angels city, chasing fortune and fame And the camera flashes make it look like a dream You had it figured out since you were in school Everybody loves pretty, everybody loves cool So overnight, you look like a sixties queen   Another name goes up in lights Like diamonds in the sky  And theyll tell you now, youre the lucky one Yeah, theyll tell you now, youre the lucky one But can you tell me now, youre the lucky one? Oh, oh, oh   And now, its big black cars and Riviera views And your lover in the foyer doesnt even know you And your secrets end up splashed on the news front page And they tell you that youre lucky, but youre so confused Cause you dont feel pretty, you just feel used And all the young things line up to take your place   Another name goes up in lights You wonder if youll make it out alive   And theyll tell you now, youre the lucky one Yeah, theyll tell you now, youre the lucky one Can you tell me now, youre the lucky one? Oh, oh, oh Oh, oh, oh   It was a few years later, I showed up here And they still tell the legend of how you disappeared How you took the money and your dignity, and got the hell out They say you bought a bunch of land somewhere Chose the rose garden over Madison Square And it took some time, but I understand it now You might also like Cause now my name is up in lights But I think you got it right   Let me tell you now, youre the lucky one Let me tell you now, youre the lucky one Let me tell you now, youre the lucky one, oh, oh, oh Yeah, theyll tell you now, youre the lucky one Yeah, theyll tell you now, youre the lucky one Let me tell you now, youre the lucky one, oh, oh, oh Oh, oh, whoa, oh, oh\n"
          ]
        }
      ]
    },
    {
      "cell_type": "code",
      "source": [
        "search(\"angry and revenge\")"
      ],
      "metadata": {
        "colab": {
          "base_uri": "https://localhost:8080/"
        },
        "id": "8ebSKaWnkmYe",
        "outputId": "39dc5279-86ec-49d1-e76d-940c66187a5a"
      },
      "execution_count": 121,
      "outputs": [
        {
          "output_type": "stream",
          "name": "stdout",
          "text": [
            "Looking for a song that matches: angry and revenge\n",
            "\n",
            "-------------------------\n",
            "\n",
            "Top-3 Bi-Encoder Retrieval hits\n",
            "\t0.504\tSpeakNow_TaylorsVersion_.BetterThanRevenge_TaylorsVersion_.txt\n",
            "Now go stand in the corner and think about what you did (Haha) Haha, time for a little revenge   The story starts when it was hot and it was summer, and I had it all, I had him right there where I wanted him She came along, got him alone, and lets hear the applause She took him faster than you can say \"Sabotage\" I never saw it coming, wouldnt have suspected it I underestimated just who I was dealing with (Oh) She had to know the pain was beating on me like a drum She underestimated just who she was stealin from   Shes not a saint and shes not what you think Shes an actress, woah He was a moth to the flame She was holding the matches, woah Soon, shes gonna find stealing other peoples toys On the playground wont make you many friends She should keep in mind, she should keep in mind There is nothing I do better than revenge (Revenge), ha   She looks at life like its a party and shes on the list She looks at me like Im a trend and shes so over it I think her ever-present frown is a little troubling, and She thinks Im psycho cause I like to rhyme her name with things But sophistication isnt what you wear or who you know Or pushing people down to get you where you wanna go They didnt teach you that in prep school so its up to me But no amount of vintage dresses gives you dignity (Think about what you did) You might also like Shes not a saint and shes not what you think Shes an actress, woah He was a moth to the flame She was holding the matches, woah Soon, shes gonna find stealing other peoples toys On the playground wont make you many friends She should keep in mind, she should keep in mind There is nothing I do better than revenge (Haha)   Im just another thing for you to roll your eyes at, honey You might have him, but havent you heard? Im just another thing for you to roll your eyes at, honey You might have him, but I always get the last word Woah (Come on, can you take it back? Come on)   Shes not a saint and shes not what you think (No) Shes an actress, woah (She deserved it) He was a moth to the flame She was holding the matches, woah Soon, shes gonna find stealing other peoples toys On the playground wont make you many friends She should keep in mind, she should keep in mind There is nothing I do better than revenge  (Come on) Do you still feel like you know what youre doin? Cause I dont think you do, oh (No, no, no, no) Do you still feel like you know what youre doing? (No) I dont think you do, I dont think you do Lets hear the applause (Come on, come on) Come on, show me how much better you are (Oh, oh) (So much better, yeah?) So you deserve some applause Cause youre so much better She took him faster than you could say \"Sabotage\"\n",
            "\t0.456\tMidnights_TheTillDawnEdition_.Karma.txt\n",
            "Youre talking shit for the hell of it Addicted to betrayal, but youre relevant Youre terrified to look down Cause if you dare, youll see the glare Of everyone you burned just to get there Its coming back around   And I keep my side of the street clean You wouldnt know what I mean   Cause karma is my boyfriend Karma is a god Karma is the breeze in my hair on the weekend Karmas a relaxing thought Arent you envious that for you its not? Sweet like honey, karma is a cat Purring in my lap cause it loves me Flexing like a goddamn acrobat Me and karma vibe like that   Spiderboy, king of thieves Weave your little webs of opacity My pennies made your crown Trick me once, trick me twice Dont you know that cash aint the only price? Its coming back around You might also like And I keep my side of the street clean You wouldnt know what I mean   Cause karma is my boyfriend Karma is a god Karma is the breeze in my hair on the weekend Karmas a relaxing thought Arent you envious that for you its not? Sweet like honey, karma is a cat Purring in my lap cause it loves me Flexing like a goddamn acrobat Me and karma vibe like that   Ask me what I learned from all those years Ask me what I earned from all those tears Ask me why so many fade, but Im still here (Im still here, Im still here)   Cause karma is the thunder Rattling your ground Karmas on your scent like a bounty hunter Karmas gonna track you down Step by step, from town to town Sweet like justice, karma is a queen Karma takes all my friends to the summit Karma is the guy on the screen Coming straight home to me  Cause karma is my boyfriend (Karma is my boyfriend) Karma is a god Karma is the breeze in my hair on the weekend (Weekend) Karmas a relaxing thought Arent you envious that for you its not? Sweet like honey, karma is a cat Purring in my lap cause it loves me Flexing like a goddamn acrobat Me and karma vibe like that   Karma is my boyfriend Karma is a god (Ah) Uh-huh, mm Karmas a relaxing thought\n",
            "\t0.444\tMidnights_TheTillDawnEdition_.VigilanteShit.txt\n",
            "Draw the cat eye sharp enough to kill a man You did some bad things, but Im the worst of them Sometimes I wonder which onell be your last lie They say looks can kill and I might try I dont dress for women I dont dress for men Lately, Ive been dressin for revenge   I dont start shit, but I can tell you how it ends Dont get sad, get even So on the weekends I dont dress for friends Lately, Ive been dressin for revenge   She needed cold, hard proof, so I gave her some She had the envelope, where you think she got it from? Now she gets the house, gets the kids, gets the pride Picture me thick as thieves with your ex-wife And she looks so pretty Drivin in your Benz Lately, shes been dressin for revenge   She dont start shit, but she can tell you how it ends Dont get sad, get even So on the weekends She dont dress for friends Lately, shes been dressing for revenge You might also like Ladies always rise above Ladies know what people want Someone sweet and kind and fun The lady simply had enough   While he was doin lines and crossin all of mine Someone told his white-collar crimes to the FBI And I dont dress for villains Or for innocents Im on my vigilante shit again   I dont start shit, but I can tell you how it ends Dont get sad, get even So on the weekends I dont dress for friends Lately, Ive been dressin for revenge\n",
            "\t0.420\tFearless_TaylorsVersion_.TheOtherSideoftheDoor_TaylorsVersion_.txt\n",
            "In the heat of the fight I walked away Ignorin words that you were sayin Tryna make me stay I said, \"This time Ive had enough\" And youve called a hundred times But Im not picking up   Cause Im so mad I might tell you that its over But if you look a little closer  I said, \"Leave,\" but all I really want is you To stand outside my window throwin pebbles Screamin, \"Im in love with you\" Wait there in the pourin rain, comin back for more And dont you leave cause I know All I need is on the other side of the door   Me and my stupid pride are sittin here alone Goin through the photographs, starin at the phone I keep goin back over things we both said And I remember the slamming door And all the things that I misread   Oh, babe, if you know everything Tell me why you couldnt see When I left, I wanted you to chase after me, yeah   I said, \"Leave,\" but all I really want is you To stand outside my window throwin pebbles Screamin, \"Im in love with you\" Wait there in the pourin rain, comin back for more And dont you leave cause I know All I need is on the other side of the door You might also like And Ill scream out the window I cant even look at you I dont need you but I do, I do, I do I say, \"Theres nothing you can say To make this right again, I mean it, I mean it\" But what I mean is   I said, \"Leave,\" but, baby, all I want is you To stand outside my window throwin pebbles Screamin, \"Im in love with you\" Wait there in the pourin rain, comin back for more And dont you leave cause I know All I need is on the other side of the door   With your face and the beautiful eyes And the conversation with the little white lies And the faded picture of a beautiful night You carried me from your car up the stairs And I broke down crying, was she worth this mess? After everything and that little black dress After everything I must confess, I need you\n",
            "\t0.391\tRed_TaylorsVersion_.StateOfGrace_AcousticVersion__TaylorsVersion_.txt\n",
            "Im walking fast through the traffic lights Busy streets and busy lives And all we know is touch and go We are alone with our changing minds We fall in love til it hurts or bleeds Or fades in time   And I never saw you comin And Ill never be the same  You come around and the armor falls Pierce the room like a cannonball Now all we know is dont let go We are alone, just you and me Up in your room and our slates are clean Just twin fire signs, four blue eyes   So you were never a saint and I loved in shades of wrong Wе learn to live with the pain, mosaic brokеn hearts But this love is brave and wild   I never saw you comin And Ill never be the same   This is a state of grace This is the worthwhile fight Love is a ruthless game Unless you play it good and right These are the hands of fate Youre my Achilles heel This is the golden age Of something good and right and real You might also like And I never saw you comin And Ill never be the same Oh, I never saw you comin And Ill never be the same   This is a state of grace This is the worthwhile fight Love is a ruthless game Unless you play it good and right\n",
            "\t0.380\tFolklore.madwoman.txt\n",
            "What did you think Id say to that? Does a scorpion sting when fighting back? They strike to kill, and you know I will You know I will What do you sing on your drive home? Do you see my face in the neighbors lawn? Does she smile? Or does she mouth, \"Fuck you forever\"?   Every time you call me crazy, I get more crazy What about that? And when you say I seem angry, I get more angry   And theres nothing like a mad woman What a shame she went mad No one likes a mad woman You made her like that And youll poke that bear til her claws come out And you find something to wrap your noose around And theres nothing like a mad woman   Now I breathe flames each time I talk My cannons all firin at your yacht They say \"move on,\" but you know I wont And women like hunting witches too Doing your dirtiest work for you Its obvious that wanting me dead Has really brought you two together You might also like Every time you call me crazy, I get more crazy What about that? And when you say I seem angry, I get more angry   And theres nothing like a mad woman What a shame she went mad No one likes a mad woman You made her like that And youll poke that bear til her claws come out And you find something to wrap your noose around And theres nothing like a mad woman   Im taking my time, taking my time Cause you took everything from me Watching you climb, watching you climb Over people like me The master of spin has a couple side flings Good wives always know She should be mad, should be scathing like me, but   No one likes a mad woman What a shame she went mad You made her like that\n",
            "\t0.362\tMidnights_TheTillDawnEdition_.Karma_Remix_.txt\n",
            "Karma is that girl, like (Grrah)   Youre talking shit for the hell of it Addicted to betrayal, but youre relevant Youre terrified to look down Cause if you dare, youll see the glare Of everyone you burned just to get there Its comin back around   And I keep my side of the street clean You wouldnt know what I mean   Cause karma is my boyfriend Karma is a god Karma is the breeze in my hair on the weekend Karmas a relaxing thought Arent you envious that for you its not? Sweet like honey, karma is a cat Purring in my lap cause it loves me Flexing likе a goddamn acrobat Me and karma vibe like that You might also like Karma is your chеcks boutta bounce (Damn) Karma is a fire in your house (Grrah) And she boutta pop up unannounced (Like) And she never leavin you alone (Damn) Watch her put ya opps on a throne (Damn) Got you wavin pretty white flags, feenin for that cash Thinkin itll save ya, now you switchin up your behavior Its okay, baby, you aint gotta worry, karma never gets lazy So, I keep my head up, my bread up, I wont let up (Never) Promise that youll never endeavor with none lesser (Ever, ever) I be draggin that wagon, karma is a beauty winning that pageant, grrah   Cause karma is my boyfriend (Damn) Karma is a god Karma is the breeze in my hair on the weekend Karmas a relaxing thought Arent you envious that for you its not? Sweet like honey, karma is a cat Purring in my lap cause it loves me Flexing like a goddamn acrobat Me and karma vibe like that (Grrah)   Ask me what I learned from all those years Ask me what I earned from all those tears Ask me why so many fade, but Im still here (Im still here, Im still here)  Cause karma is the thunder Rattlin your ground Karmas on your scent like a bounty hunter And karmas gonna track you down Step by step, from town to town Sweet like justice, karma is a queen Karma takes all my friends to the summit (Facts) Karma is the guy on the screen Coming straight home to me   Cause karma is my boyfriend (Karma is my boyfriend) Karma is a god (Damn) Karma is the breeze in my hair on the weekend (Weekend) Karmas a relaxing thought Arent you envious that for you its not? Sweet like honey, karma is a cat Purring in my lap cause it loves me Flexing like a goddamn acrobat Me and karma vibe like that   Karma is my boyfriend Karma is a god (Ah) Karma is my bestie (Mmm) Karmas a relaxing thought Karmas gonna hold you down\n",
            "\t0.357\tTaylorSwift.ColdasYou.txt\n",
            "You have a way of coming easily to me And when you take, you take the very best of me So I start a fight cause I need to feel something And you do what you want cause Im not what you wanted   Oh, what a shame, what a rainy ending given to a perfect day Just walk away, aint no use defending words that you will never say And now that Im sitting here thinking it through Ive never been anywhere cold as you  You put up walls and paint them all a shade of gray And I stood there loving you and wished them all away And you come away with a great little story Of a mess of a dreamer with the nerve to adore you   Oh, what a shame, what a rainy ending given to a perfect day So just walk away, aint no use defending words that you will never say And now that Im sitting here thinking it through Ive never been anywhere cold as you   You never did give a damn thing, honey, but I cried, cried for you And I know you wouldnt have told nobody if I died, died for you (Died for you)   Oh, what a shame, what a rainy ending given to a perfect day Every smile you fake is so condescending Counting all the scars you made And now that Im sitting here thinking it through Ive never been anywhere cold as you OohYou might also like\n",
            "\t0.343\tLover.YouNeedToCalmDown.txt\n",
            "You are somebody that I dont know But youre takin shots at me like its Patrón And Im just like, damn, its 7 AM Say it in the street, thats a knock-out But you say it in a Tweet, thats a cop-out And Im just like, \"Hey, are you okay?\"   And I aint tryna mess with your self-expression But Ive learned a lesson that stressin and obsessin bout somebody else is no fun And snakes and stones never broke my bones  So oh-oh, oh-oh, oh-oh, oh-oh, oh-oh You need to calm down, youre being too loud And Im just like oh-oh, oh-oh, oh-oh, oh-oh, oh-oh (Oh) You need to just stop, like can you just not step on my gown? You need to calm down   You are somebody that we dont know But youre comin at my friends like a missile Why are you mad when you could be GLAAD? (You could be GLAAD) Sunshine on the street at the parade But you would rather be in the dark ages Makin that sign mustve taken all night   You just need to take several seats and then try to restore the peace And control your urges to scream about all the people you hate Cause shade never made anybody less gay   So oh-oh, oh-oh, oh-oh, oh-oh, oh-oh You need to calm down, youre being too loud And Im just like oh-oh, oh-oh, oh-oh, oh-oh, oh-oh (Oh) You need to just stop, like can you just not step on his gown? You need to calm down You might also like And we see you over there on the internet Comparing all the girls who are killing it But we figured you out We all know now we all got crowns You need to calm down   Oh-oh, oh-oh, oh-oh, oh-oh, oh-oh You need to calm down (You need to calm down) Youre being too loud (Youre being too loud) And Im just like oh-oh, oh-oh, oh-oh, oh-oh, oh-oh (Oh) You need to just stop (Can you stop?) Like can you just not step on our gowns? You need to calm down\n",
            "\t0.338\tTHETORTUREDPOETSDEPARTMENT_THEANTHOLOGY.TheProphecy.txt\n",
            "One, two, three, four   Hand on the throttle Thought I caught lightning in a bottle Oh, but its gone again And it was written I got cursed like Eve got bitten Oh, was it punishment? Pad around when I get home I guess a lesser woman wouldve lost hope A greater woman wouldnt beg But I looked to the sky and said   \"Please Ive been on my knees Change the prophecy Dont want money Just someone who wants my company Let it once be me Who do I have to speak to About if they can redo the prophеcy?\"   Cards on the table Mine play out likе fools in a fable Oh, it was sinking in (Sinking in, oh) Slow is the quicksand Poison blood from the wound of the pricked hand Oh, still I dream of him See Taylor Swift LiveGet tickets as low as $60You might also like Please Ive been on my knees Change the prophecy Dont want money Just someone who wants my company Let it once be me Who do I have to speak to About if they can redo the prophecy?   And I sound like an infant Feeling like the very last drops of an ink pen A greater woman stays cool But I howl like a wolf at the moon And I look unstable Gathered with a coven round a sorceress table A greater woman has faith But even statues crumble if theyre made to wait Im so afraid I sealed my fate No sign of soulmates Im just a paperweight in shades of greige Spending my last coin so someone will tell me itll be okay Ooh, ooh, ooh, ooh   Please Ive been on my knees Change the prophecy Dont want money Just someone who wants my company Let it once be me Who do I have to speak to About if they can redo the prophecy? Who do I have to speak to To change the prophecy?  Hand on the throttle Thought I caught lightning in a bottle Oh, but its gone again Pad around when I get home I guess a lesser woman wouldve lost hope A greater woman wouldnt beg But I looked to the sky and said (\"Please\")\n"
          ]
        }
      ]
    },
    {
      "cell_type": "code",
      "source": [
        "search(\"grief and death\")"
      ],
      "metadata": {
        "colab": {
          "base_uri": "https://localhost:8080/"
        },
        "id": "vDCfmH70lMLy",
        "outputId": "6131ca92-82b4-4abf-bf26-3a26f3220bc7"
      },
      "execution_count": 124,
      "outputs": [
        {
          "output_type": "stream",
          "name": "stdout",
          "text": [
            "Looking for a song that matches: grief and death\n",
            "\n",
            "-------------------------\n",
            "\n",
            "Top-3 Bi-Encoder Retrieval hits\n",
            "\t0.439\tTHETORTUREDPOETSDEPARTMENT_THEANTHOLOGY.HowDidItEnd_.txt\n",
            "(Uh-oh, uh-oh)   We hereby conduct this post-mortem He was a hot house flower to my outdoorsman Our maladies were such we could not cure them And so a touch that was my birthright became foreign   Come one, come all, its happenin again The empathetic hunger descends Well tell no one except all of our friends We must know How did it end? (Uh-oh, uh-oh)   We were blind to unforeseen circumstances We learned thе right steps to different dancеs And fell victim to interlopers glances Lost the game of chance, what are the chances? Soon, theyll go home to their husbands Smug cause they know they can trust him Then feverishly calling their cousins See Taylor Swift LiveGet tickets as low as $60You might also like \"Guess who we ran into at the shops? Walking in circles like she was lost Didnt you hear? They called it all off\" One gasp and then \"How did it end?\"   Say it once again with feeling How the death rattle breathing Silenced as the soul was leaving The deflation of our dreaming Leaving me bereft and reeling My beloved ghost and me Sitting in a tree D-Y-I-N-G   Its happenin again How did it end? I cant pretend like I understand How did it end?   Come one, come all, its happenin again The empathetic hunger descends Well tell no one except all of our friends But I still dont know How did it end\n",
            "\t0.436\tLover.DeathbyaThousandCuts.txt\n",
            "My, my, my, my My, my, my, my My, my, my, my My, my, my, my My, my, my, my My, my, my, my My, my, my, my My, my, my, my   Saying goodbye is death by a thousand cuts Flashbacks waking me up I get drunk, but its not enough ’Cause the morning comes and youre not my baby I look through the windows of this love Even though we boarded them up Chandeliers still flickering here ’Cause I cant pretend its okay when its not Its death by a thousand cuts  I dress to kill my time, I take the long way home I ask the traffic lights if itll be alright They say, \"I dont know\" And what once was ours is no ones now I see you everywhere, the only thing we share Is this small town You said it was a great love, one for the ages But if the story’s over, why am I still writing pages?   ’Cause saying goodbye is death by a thousand cuts Flashbacks waking me up I get drunk, but its not enough ’Cause the morning comes and youre not my baby I look through the windows of this love Even though we boarded them up Chandeliers still flickering here Cause I can’t pretend its okay when its not Its death by a thousand cuts   My heart, my hips, my body, my love Tryna find a part of me that you didnt touch Gave up on me like I was a bad drug Now Im searching for signs in a haunted club Our songs, our films, united we stand Our country, guess it was a lawless land Quiet my fears with the touch of your hand Paper cut stings from our paper-thin plans My time, my wine, my spirit, my trust Tryna find a part of me you didnt take up Gave you too much, but it wasnt enough But Ill be alright, its just a thousand cuts You might also like I get drunk, but its not enough Cause youre not my baby I look through the windows of this love Even though we boarded them up Chandeliers still flickering here Cause I cant pretend its okay when its not No, its not Its death by a thousand cuts (You didnt touch)   Tryna find a part of me that you didnt touch My body, my love, my trust (Its death by a thousand cuts) But it wasnt enough, it wasnt enough, no, no   I take the long way home I ask the traffic lights if itll be alright They say, \"I dont know\"\n",
            "\t0.418\tFolklore.mytearsricochet.txt\n",
            "We gather here, we line up, weepin in a sunlit room And if Im on fire, youll be made of ashes, too Even on my worst day, did I deserve, babe All the hell you gave me? Cause I loved you, I swear I loved you Til my dying day   I didnt have it in myself to go with grace And youre the hero flying around, saving face And if Im dead to you, why are you at the wake? Cursing my name, wishing I stayed Look at how my tears ricochet   We gather stones, never knowing what theyll mean Some to throw, some to make a diamond ring You know I didnt want to have to haunt you But what a ghostly scene You wear the same jewels that I gave you As you bury me   I didnt have it in myself to go with grace Cause when Id fight, you used to tell me I was brave And if Im dead to you, why are you at the wake? Cursing my name, wishing I stayed Look at how my tears ricochet You might also like And I can go anywhere I want Anywhere I want, just not home And you can aim for my heart, go for blood But you would still miss me in your bones And I still talk to you (When Im screaming at the sky) And when you cant sleep at night (You hear my stolen lullabies)   I didnt have it in myself to go with grace And so the battleships will sink beneath the waves You had to kill me, but it killed you just the same Cursing my name, wishing I stayed You turned into your worst fears And youre tossing out blame, drunk on this pain Crossing out the good years And youre cursing my name, wishing I stayed Look at how my tears ricochet\n",
            "\t0.363\tEvermore.ivy.txt\n",
            "Hows one to know? Id meet you where the spirit meets the bones In a faith-forgotten land In from the snow Your touch brought forth an incandescent glow Tarnished but so grand   And the old widow goes to the stone every day But I dont, I just sit here and wait Grieving for the living   Oh, goddamn My pain fits in the palm of your freezing hand Taking mine, but its been promised to another Oh, I cant Stop you putting roots in my dreamland My house of stone, your ivy grows And now Im covered in you   I wish to know The fatal flaw that makes you long to be Magnificently cursed Hes in the room Your opal eyes are all I wish to see He wants whats only yours You might also like Oh, goddamn My pain fits in the palm of your freezing hand Taking mine, but its been promised to another Oh, I cant Stop you putting roots in my dreamland My house of stone, your ivy grows And now Im covered   Clover blooms in the fields Spring breaks loose, the time is near What would he do if he found us out? Crescent moon, coast is clear Spring breaks loose, but so does fear Hes gonna burn this house to the ground Hows one to know? Id live and die for moments that we stole On begged and borrowed time So tell me to run Or dare to sit and watch what well become And drink my husbands wine   Oh, goddamn My pain fits in the palm of your freezing hand Taking mine, but its been promised to another Oh, I cant Stop you putting roots in my dreamland My house of stone, your ivy grows And now Im covered in you And Im covered in you  So yeah, its a fire Its a goddamn blaze in the dark And you started it You started it So yeah, its a war Its the goddamn fight of my life And you started it You started it   Oh, I cant Stop you putting roots in my dreamland My house of stone, your ivy grows And now Im covered In you, in you Now Im covered in you In you\n",
            "\t0.354\tMidnights_TheTillDawnEdition_.BiggerThanTheWholeSky.txt\n",
            "No words appear before me in the aftermath Salt streams out my eyes and into my ears Every single thing I touch becomes sick with sadness Cause its all over now, all out to sea   Goodbye, goodbye, goodbye You were bigger than the whole sky You were more than just a short time And Ive got a lot to pine about Ive got a lot to live without Im never gonna meet What couldve been, wouldve been What shouldve been you What couldve been, wouldve been you   Did some bird flap its wings ovеr in Asia? Did some force take you bеcause I didnt pray? Every single thing to come has turned into ashes Cause its all over, its not meant to be So Ill say words I dont believe   Goodbye, goodbye, goodbye You were bigger than the whole sky You were more than just a short time And Ive got a lot to pine about Ive got a lot to live without Im never gonna meet What couldve been, wouldve been What shouldve been you You might also like What couldve been, wouldve been you What couldve been, wouldve been What shouldve been you What couldve been, wouldve been you (What couldve been, wouldve been you)   Goodbye, goodbye, goodbye You were bigger than the whole sky You were more than just a short time And Ive got a lot to pine about Ive got a lot to live without Im never gonna meet What couldve been, wouldve been What shouldve been you\n",
            "\t0.344\tEvermore.evermore.txt\n",
            "Gray November Ive been down since July Motion capture Put me in a bad light I replay my footsteps on each stepping stone Trying to find the one where I went wrong Writing letters Addressed to the fire   And I was catching my breath Staring out an open window Catching my death And I couldnt be sure I had a feeling so peculiar That this pain would be for Evermore   Hey December Guess Im feeling unmoored Cant remember What I used to fight for I rewind thе tape, but all it does is pause On thе very moment all was lost Sending signals To be double-crossed You might also like And I was catching my breath Barefoot in the wildest winter Catching my death And I couldnt be sure I had a feeling so peculiar That this pain would be for Evermore (Evermore)  Cant not think of all the cost And the things that will be lost Oh, can we just get a pause? To be certain, well be tall again Whether weather be the frost Or the violence of the dog days Im on waves, out being tossed Is there a line that I could just go cross? And when I was shipwrecked (Cant think of all the cost now) I thought of you (All the things that will be lost now) In the cracks of light (Can we just get a pause?) I dreamed of you (To be certain well be tall again) (If you think of all the costs) It was real enough (Whether weather be the frost) To get me through (Or the violence of the dog days) (Or the violence of the dog days) (Out on waves, being tossed) (Im on waves, out being tossed) But I swear (Is there a line that we can just go cross?) You were there  And I was catching my breath Floors of a cabin creaking under my step And I couldnt be sure I had a feeling so peculiar This pain wouldnt be for Evermore Evermore Evermore This pain wouldnt be for evermore Evermore\n",
            "\t0.340\tMidnights_TheTillDawnEdition_.Anti_Hero.txt\n",
            "I have this thing where I get older, but just never wiser Midnights become my afternoons When my depression works the graveyard shift, all of the people Ive ghosted stand there in the room   I should not be left to my own devices They come with prices and vices I end up in crisis (Tale as old as time) I wake up screaming from dreaming One day, Ill watch as youre leaving Cause you got tired of my scheming (For the last time)   Its me, hi Im the problem, its me At teatime, everybody agrees Ill stare directly at the sun, but never in the mirror It must be exhausting always rooting for the anti-hero   Sometimes, I feel like everybody is a sexy baby And Im a monster on the hill Too big to hang out, slowly lurching toward your favorite city Pierced through the heart, but never killed You might also like Did you hear my covert narcissism I disguise as altruism Like some kind of congressman? (A tale as old as time) I wake up screaming from dreaming One day, Ill watch as youre leaving And life will lose all its meaning (For the last time)   Its me, hi Im the problem, its me (Im the problem, its me) At teatime, everybody agrees Ill stare directly at the sun, but never in the mirror It must be exhausting always rooting for the anti-hero   I have this dream my daughter-in-law kills me for the money She thinks I left them in the will The family gathers round and reads it and then someone screams out \"Shes laughing up at us from Hell\"   Its me, hi Im the problem, its me Its me, hi Im the problem, its me Its me, hi Everybody agrees, everybody agrees  Its me, hi (Hi) Im the problem, its me (Im the problem, its me) At teatime (Teatime), everybody agrees (Everybody agrees) Ill stare directly at the sun, but never in the mirror It must be exhausting always rooting for the anti-hero\n",
            "\t0.339\tTaylorSwift.ColdasYou.txt\n",
            "You have a way of coming easily to me And when you take, you take the very best of me So I start a fight cause I need to feel something And you do what you want cause Im not what you wanted   Oh, what a shame, what a rainy ending given to a perfect day Just walk away, aint no use defending words that you will never say And now that Im sitting here thinking it through Ive never been anywhere cold as you  You put up walls and paint them all a shade of gray And I stood there loving you and wished them all away And you come away with a great little story Of a mess of a dreamer with the nerve to adore you   Oh, what a shame, what a rainy ending given to a perfect day So just walk away, aint no use defending words that you will never say And now that Im sitting here thinking it through Ive never been anywhere cold as you   You never did give a damn thing, honey, but I cried, cried for you And I know you wouldnt have told nobody if I died, died for you (Died for you)   Oh, what a shame, what a rainy ending given to a perfect day Every smile you fake is so condescending Counting all the scars you made And now that Im sitting here thinking it through Ive never been anywhere cold as you OohYou might also like\n",
            "\t0.336\tFearless_TaylorsVersion_.Breathe_TaylorsVersion_.txt\n",
            "I see your face in my mind as I drive away Cause none of us thought it was gonna end that way People are people and sometimes we change our minds But its killing me to see you go after all this time   Mm-mm, mm-mm-mm-mm Mm-mm, mm-mm-mm-mm   The music starts playing like the end of a sad movie Its the kind of ending you dont really wanna see Cause its tragedy and itll only bring you down Now I dont know what to be without you around  And we know its never simple, never easy Never a clean break, no one here to save me Youre the only thing I know like the back of my hand   And I cant breathe without you, but I have to Breathe without you, but I have to   Never wanted this, never wanna see you hurt Every little bump in the road, I tried to swerve But people are people and sometimes it doesnt work out And nothin we say is gonna save us from the fallout   And we know its never simple, never easy Never a clean break, no one here to save me Youre the only thing I know like the back of my hand   And I cant breathe without you, but I have to Breathe without you but I have to   Its 2 A.M., feeling like I just lost a friend Hope you know its not easy, easy for me Its 2 A.M., feeling like I just lost a friend Hope you know this aint easy, easy for me You might also like And we know its never simple, never easy Never a clean break, no one here to save me, oh   I cant breathe without you, but I have to Breathe without you, but I have to Breathe without you, but I have to Breathe without you, but I have to   Im sorry, Im sorry (Mmm) Im sorry, (Yeah, yeah) Im sorry Im sorry, Im sorry (Ooh, ooh) Im sorry\n",
            "\t0.330\tSpeakNow_TaylorsVersion_.TheStoryofUs_TaylorsVersion_.txt\n",
            "I used to think one day wed tell the story of us How we met and the sparks flew instantly And people would say, \"They’re the lucky ones\" I used to know my place was the spot next to you Now Im searchin the room for an empty seat ’Cause lately I dont even know what page youre on   Oh, a simple complication Miscommunications lead to fallout So many things that I wish you knew So many walls up, I cant break through   Now Im standin alone in a crowded room And were not speakin And I’m dyin’ to know, is it killin you Like it’s killin me? Yeah I dont know what to say since thе twist of fate When it all broke down And thе story of us looks a lot like a tragedy now   Next chapter You might also like Howd we end up this way? See me nervously pulling at my clothes and tryin’ to look busy And youre doin your best to avoid me Im starting to think one day Ill tell the story of us How I was losin my mind when I saw you here But you held your pride like you shouldve held me   Oh, Im scared to see the ending Why are we pretending this is nothin? Id tell you I miss you, but I dont know how Ive never heard silence quite this loud   Now Im standin alone in a crowded room And were not speakin And Im dyin to know, is it killin you Like its killin me? Yeah I dont know what to say since the twist of fate When it all broke down And the story of us looks a lot like a tragedy now   This is looking like a contest Of who can act like they care less But I liked it better when you were on my side The battles in your hands now But I would lay my armor down If you said youd rather love than fight  So many things that you wish I knew But the story of us might be ending soon   Now Im standin alone in a crowded room And were not speakin And Im dyin to know, is it killin you Like its killin me? Yeah And I dont know what to say since the twist of fate When it all broke down And the story of us looks a lot like a tragedy now, now, now And were not speakin And Im dyin to know, is it killin you Like its killin me? Yeah I dont know what to say since the twist of fate Cause were goin down And the story of us looks a lot like a tragedy now   The endEmbed\n"
          ]
        }
      ]
    },
    {
      "cell_type": "code",
      "source": [
        "search(\"happy and celebrations\")"
      ],
      "metadata": {
        "colab": {
          "base_uri": "https://localhost:8080/"
        },
        "id": "waWtBGbWlVBt",
        "outputId": "02f50dc8-3878-45c1-c206-bf17d806a7ab"
      },
      "execution_count": 125,
      "outputs": [
        {
          "output_type": "stream",
          "name": "stdout",
          "text": [
            "Looking for a song that matches: happy and celebrations\n",
            "\n",
            "-------------------------\n",
            "\n",
            "Top-3 Bi-Encoder Retrieval hits\n",
            "\t0.430\tEvermore.tolerateit.txt\n",
            "I sit and watch you reading with your head low I wake and watch you breathing with your eyes closed I sit and watch you I notice everything you do or dont do Youre so much older and wiser, and I   I wait by the door like Im just a kid Use my best colors for your portrait Lay the table with the fancy shit And watch you tolerate it If its all in my head, tell me now Tell me Ive got it wrong somehow I know my love should be celebrated But you tolerate it   I greet you with a battle heros welcome I take your indiscretions all in good fun I sit and listеn, I polish plates until they gleam and glistеn Youre so much older and wiser and I   I wait by the door like Im just a kid Use my best colors for your portrait Lay the table with the fancy shit And watch you tolerate it If its all in my head, tell me now Tell me Ive got it wrong somehow I know my love should be celebrated But you tolerate it You might also like While you were out building other worlds, where was I? Wheres that man whod throw blankets over my barbed wire? I made you my temple, my mural, my sky Now Im begging for footnotes in the story of your life Drawing hearts in the byline Always taking up too much space or time You assume Im fine, but what would you do if I   Break free and leave us in ruins Took this dagger in me and removed it Gain the weight of you, then lose it Believe me, I could do it If its all in my head, tell me now Tell me Ive got it wrong somehow I know my love should be celebrated But you tolerate it   I sit and watch you\n",
            "\t0.428\tFearless_TaylorsVersion_.WeWereHappy_TaylorsVersion__FromtheVault_.txt\n",
            "We used to walk along the streets When the porch lights were shining bright Before I had somewhere to be Back when we had all night and we were happy I do recall a good while back, we snuck into the circus You threw your arms around my neck, back when I deserved it And we were happy   When it was good, baby, it was good, baby We showed em all up No one could touch the way we laughed in the dark Talking bout your daddys farm we were gonna buy someday And we were happy  We used to watch the sun go down on the boats in the water Thats sorta how I feel right now And goodbyes so much harder cause we were happy   When it was good, baby, it was good, baby We showed em all up No one could touch the way we laughed in the dark Talking bout your daddys farm we were gonna buy someday And we were happy We were happy   Oh, I hate those voices telling me Im not in love anymore But they dont give me choices and thats what these tears are for Cause we were happy We were happy   When it was good, baby, it was good, baby We showed em all up No one could touch the way we laughed in the dark Talking bout your daddys farm And you were gonna marry me And we were happy We were happy Oh-oh-oh-oh We were happyYou might also like\n",
            "\t0.426\tEvermore.happiness.txt\n",
            "Honey, when Im above the trees I see this for what it is But now Im right down in it, all the years Ive given Is just shit were dividin up Showed you all of my hiding spots I was dancing when the music stopped And in the disbelief, I cant face reinvention I havent met the new me yet   Therell be happiness after you But there was happiness because of you Both of these things can be true There is happiness   Past the blood and bruise Past the curses and cries Beyond the terror in the nightfall Haunted by the look in my eyes That wouldve loved you for a lifetime Leave it all behind And there is happiness   Tell me, when did your winning smile Begin to look like a smirk? When did all our lessons start to look like weapons Pointed at my deepest hurt? I hope shell be a beautiful fool Who takes my spot next to you No, I didnt mean that Sorry, I cant see facts through all of my fury You havent met the new me yet You might also like Therell be happiness after me But there was happiness because of me Both of these things, I believe There is happiness   In our history, across our great divide There is a glorious sunrise Dappled with the flickers of light From the dress I wore at midnight, leave it all behind And there is happiness   I cant make it go away by making you a villain I guess its the price I paid for seven years in Heaven And I pulled your body into mine Every goddamn night, now I get fake niceties No one teaches you what to do When a good man hurts you And you know you hurt him too   Honey, when Im above the trees I see it for what it is But now my eyes leak acid rain on the pillow where you used to lay your head After giving you the best I had Tell me what to give after that All you want from me now is the green light of forgiveness You havent met the new me yet And I think shell give you that  Therell be happiness after you But there was happiness because of you too Both of these things can be true There is happiness   In our history, across our great divide There is a glorious sunrise Dappled with the flickers of light From the dress I wore at midnight, leave it all behind Oh, leave it all behind Leave it all behind And there is happiness\n",
            "\t0.304\tSpeakNow_TaylorsVersion_.BackToDecember_TaylorsVersion_.txt\n",
            "Im so glad you made time to see me Hows life? Tell me, hows your family? I havent seen them in a while Youve been good, busier than ever We small talk, work and the weather Your guard is up and I know why   Because the last time you saw me Is still burned in the back of your mind You gave me roses and I left them there to die   So, this is me swallowing my pride Standin in front of you sayin, \"Im sorry for that night\" And I go back to December all the time It turns out freedom aint nothing but missin you Wishin Id realized what I had when you were mine I go back to December, turn around and make it alright I go back to December all the time   These days, I havent been sleeping Stayin up, playing back myself leavin When your birthday passed and I didnt call Then I think about summer, all the beautiful times I watched you laughin from the passenger side And realized I loved you in the fall You might also like And then the cold came, the dark days When fear crept into my mind You gave me all your love and all I gave you was goodbye   So, this is me swallowing my pride Standin in front of you, sayin, \"Im sorry for that night\" And I go back to December all the time It turns out freedom aint nothing but missin you Wishin Id realized what I had when you were mine I go back to December, turn around and change my own mind I go back to December all the time   I miss your tanned skin, your sweet smile So good to me, so right And how you held me in your arms that September night The first time you ever saw me cry Maybe this is wishful thinkin Probably mindless dreaming But if we loved again, I swear Id love you right Id go back in time and change it, but I cant So, if the chain is on your door, I understand   But this is me swallowing my pride Standin in front of you, sayin, \"Im sorry for that night\" And I go back to December It turns out freedom aint nothing but missin you Wishin Id realized what I had when you were mine I go back to December, turn around and make it alright I go back to December, turn around and change my own mind I go back to December all the time  All the timeEmbed\n",
            "\t0.297\tReputation.ReputationMagazineVol_1.txt\n",
            "\n",
            "\t0.290\tReputation.NewYearsDay.txt\n",
            "Theres glitter on the floor after the party Girls carrying their shoes down in the lobby Candle wax and Polaroids on the hardwood floor You and me from the night before, but   Don’t read the last page But I stay when youre lost and Im scared and you’re turning away I want your midnights But Ill be cleaning up bottles with you on New Years Day  You squeeze my hand three times in the back of the taxi I can tell that its gonna be a long road Ill be there if youre the toast of the town, babe Or if you strike out and youre crawling home   Dont read the last page But I stay when it’s hard or it’s wrong or were making mistakes I want your midnights But I’ll be cleaning up bottles with you on New Years Day   Hold on to the memories, they will hold on to you Hold on to the memories, they will hold on to you Hold on to the memories, they will hold on to you And I will hold on to you   Please, dont ever become a stranger Whose laugh I could recognize anywhere Please, dont ever become a stranger Whose laugh I could recognize anywhere   There’s glitter on the floor after the party Girls carrying their shoes down in the lobby Candle wax and Polaroids on the hardwood floor You and me forevermore You might also like Dont read the last page But I stay when its hard or its wrong or were making mistakes I want your midnights But Ill be cleaning up bottles with you on New Years Day   Hold on to the memories, they will hold on to you Hold on to the memories, they will hold on to you Hold on to the memories, they will hold on to you And I will hold on to you   Please, dont ever become a stranger (To the memories, they will hold on to you) Whose laugh I could recognize anywhere (Hold on to the memories, they will hold on to you) Please, dont ever become a stranger (Hold on to the memories, they will hold on to you) Whose laugh I could recognize anywhere (I will hold on to you)\n",
            "\t0.281\t1989_TaylorsVersion_.NewRomantics_TaylorsVersion_.txt\n",
            "Were all bored, were all so tired of everything We wait for trains that just arent comin We show off our different scarlet letters Trust me, mine is better Were so young, but were on the road to ruin We play dumb, but we know exactly what were doin We cry tears of mascara in the bathroom Honey, life is just a classroom Ah-ah-ah-ah-ah-ah   Cause, baby, I could build a castle Out of all the bricks they threw at me And evеry day is like a battle But evеry night with us is like a dream Baby, were the new romantics, come on, come along with me Heartbreak is the national anthem, we sing it proudly We are too busy dancin to get knocked off our feet Baby, were the new romantics The best people in life are free   Were all here, the lights and noise are blinding We hang back, its all in the timing Its poker, he cant see it in my face But Im about to play my Ace, ah We need love, but all we want is danger We team up, then switch sides like a record changer The rumors are terrible and cruel But, honey, most of them are true Ah-ah-ah-ah-ah-ah See Taylor Swift LiveGet tickets as low as $60You might also like Cause, baby, I could build a castle Out of all the bricks they threw at me And every day is like a battle But every night with us is like a dream Baby, were the new romantics, come on, come along with me Heartbreak is the national anthem, we sing it proudly We are too busy dancin (Yeah) to get knocked off our feet (Hey) Baby, were the new romantics The best people in life are free   (Oh, oh, oh-oh, oh) Oh (Oh, oh, oh-oh, oh) So, come on, come along with me (Oh, oh, oh-oh, oh) The best people in life are free (Oh, oh, oh-oh, oh)   Please, take my hand and Please, take me dancin and Please, leave me stranded Its so romantic (Its so romantic) Ah-ah-ah-ah-ah-ah   Cause, baby, I could build a castle (Oh, baby, I could build a castle) Out of all the bricks they threw at me (At me) And every day is like a battle (Oh) But every night with us is like a dream (Is like a dream) Cause baby, I could build a castle (Castle) Out of all the bricks they threw at me And every day is like a battle (And every day is like a battle, oh) But every night with us is like a dream Baby, were the new romantics, come on, come along with me Heartbreak is the national anthem, we sing it proudly We are too busy dancin (Hey) to get knocked off our feet Baby, were the new romantics The best people in life are free\n",
            "\t0.279\tReputation.ThisIsWhyWeCantHaveNiceThings.txt\n",
            "It was so nice throwing big parties Jump into the pool from the balcony Everyone swimming in a champagne sea And there are no rules when you show up here Bass beat rattling the chandelier Feeling so Gatsby for that whole year   So, whyd you have to rain on my parade? Im shaking my head and locking the gates  This is why we cant have nice things, darling Because you break them, I had to take them away This is why we cant have nice things, honey (Oh) Did you think I wouldnt hear all the things you said about me? This is why we cant have nice things   It was so nice being friends again There I was, giving you a second chance But you stabbed me in the back while shaking my hand And therein lies the issue, friends dont try to trick you Get you on the phone and mind-twist you And so I took an axe to a mended fence   But Im not the only friend youve lost lately (Mm-mm) If only you werent so shady  This is why we cant have nice things, darling (Yeah) Because you break them, I had to take them away This is why we cant have nice (Nice things) things (Baby), honey Did you think I wouldnt hear all the things you said about me? This is why we cant have— You might also like Heres a toast to my real friends They dont care about the he-said, she-said And heres to my baby He aint reading what they call me lately And heres to my mama Had to listen to all this drama And heres to you Cause forgiveness is a nice thing to do Haha, I cant even say it with a straight face  This is why we cant have nice things, darling (Darling) Because you break them, I had to take them away This is why we cant have nice (Uh-uh) things (Oh, no), honey (Baby, oh) Did you think I wouldnt hear all the things you said about me? This is why we cant have nice things, darling (And heres to my real friends) Because you break them, I had to take them (And heres to my baby) Nice things, honey (They didnt care about that he-said, she-said) Did you think I wouldnt hear all the things you said about me? This is why we cant have nice things\n",
            "\t0.257\tLover.ItsNicetoHaveaFriend.txt\n",
            "Ooh Ooh   School bell rings, walk me home Sidewalk chalk covered in snow Lost my gloves, you give me one \"Wanna hang out?\" Yeah, sounds like fun Video games, you pass me a note Sleeping in tents  Its nice to have a friend (Ooh) Its nice to have a friend (Ooh)   Light pink sky, up on the roof Sun sinks down, no curfew 20 questions, we tell the truth Youve been stressed out lately, yeah, me too Something gave you the nerve To touch my hand   Its nice to have a friend (Ooh) Its nice to have a friend (Ooh)     Church bells ring, carry me home Rice on the ground looks like snow Call my bluff, call you \"Babe\" Have my back, yeah, every day Feels like home, stay in bed The whole weekend You might also like Its nice to have a friend (Ooh) Its nice to have a friend (Ooh) Its nice to have a friend (Ooh) (Ooh)\n",
            "\t0.249\tRed_TaylorsVersion_.TheVeryFirstNight_TaylorsVersion__FromtheVault_.txt\n",
            "I wish I could fly Id pick you up and wed go back in time Id write this in the sky I miss you like it was the very first night   And so it goes Every weekend, this same party I never go alone And I dont seem broken-hearted My friends all say they know Everything Im going through I drive down different roads But they all lead back to you  Cause they dont know about the night in the hotel They werent ridin in the car when we both fell Didnt read the note on the Polaroid picture They dont know how much I miss you   I wish I could fly Id pick you up and wed go back in time Id write this in the sky I miss you like it was the very first night   And so it was We never saw it coming Not trying to fall in love But we did like children running Back then, we didnt know We were built to fall apart We broke the status quo Then we broke each others hearts   But dont forget about the night out in L.A Dance in the kitchen, chase me down through the hallway No one knows about the words that we whispered No one knows how much I miss you You might also like I wish I could fly Id pick you up and wed go back in time Id write this in the sky I miss you like it was the very first night   Take me away Take me away Take me away To you, to you Take me away Take me away Take me away To you, to you   I remember the night at the hotel I was ridin in the car when we both fell Im the one on the phone as you whisper \"Do you know how much I miss you?\"   I wish that we could go back in time And Id say to you \"I miss you like it was the very first night\"  I wish I could fly Id pick you up and wed go back in time Id write this in the sky I miss you like it was the very first night   Take me away Take me away Take me away To you, to you Take me away Take me away Take me away To you, to you\n"
          ]
        }
      ]
    },
    {
      "cell_type": "markdown",
      "source": [
        "# References\n",
        "\n",
        "* https://www.kaggle.com/datasets/ishikajohari/taylor-swift-all-lyrics-30-albums\n",
        "* https://www.kaggle.com/code/ishikajohari/taylor-swifts-lyrical-word-clouds-all-11-albums\n",
        "*   https://stackoverflow.com/questions/4796764/read-file-from-line-2-or-skip-header-row\n",
        "* https://stackoverflow.com/questions/3677255/regex-for-anything-between\n",
        "* https://github.com/UKPLab/sentence-transformers/blob/master/examples/applications/retrieve_rerank/retrieve_rerank_simple_wikipedia.ipynb\n",
        "* https://sbert.net/examples/applications/computing-embeddings/README.html\n",
        "\n",
        "\n"
      ],
      "metadata": {
        "id": "t1ygiJ7SLS2L"
      }
    }
  ]
}